{
 "cells": [
  {
   "attachments": {},
   "cell_type": "markdown",
   "metadata": {},
   "source": [
    "# Project Title: TLC Trip Records Data Exploration"
   ]
  },
  {
   "attachments": {},
   "cell_type": "markdown",
   "metadata": {},
   "source": [
    "Project Description: https://www.nyc.gov/assets/tlc/downloads/pdf/trip_record_user_guide.pdf https://www.nyc.gov/assets/tlc/downloads/pdf/data_dictionary_trip_records_fhv.pdf https://www.nyc.gov/assets/tlc/downloads/pdf/data_dictionary_trip_records_yellow.pdf"
   ]
  },
  {
   "attachments": {},
   "cell_type": "markdown",
   "metadata": {},
   "source": [
    "# Import Modules"
   ]
  },
  {
   "cell_type": "code",
   "execution_count": 1,
   "metadata": {},
   "outputs": [],
   "source": [
    "import os\n",
    "import sys\n",
    "import pyspark\n",
    "import pandas as pd\n",
    "from pyspark.sql import SparkSession"
   ]
  },
  {
   "attachments": {},
   "cell_type": "markdown",
   "metadata": {},
   "source": [
    "# Create Spark Session"
   ]
  },
  {
   "cell_type": "code",
   "execution_count": 2,
   "metadata": {},
   "outputs": [
    {
     "name": "stdout",
     "output_type": "stream",
     "text": [
      "The PySpark 3.3.2 version is running....\n"
     ]
    }
   ],
   "source": [
    "spark = SparkSession.builder.appName('TLC Trip Record Data').getOrCreate()\n",
    "print(f'The PySpark {spark.version} version is running....')"
   ]
  },
  {
   "cell_type": "code",
   "execution_count": 3,
   "metadata": {},
   "outputs": [],
   "source": [
    "df = spark.read.parquet('yellow_tripdata_2023-03.parquet')"
   ]
  },
  {
   "cell_type": "code",
   "execution_count": 4,
   "metadata": {},
   "outputs": [
    {
     "name": "stdout",
     "output_type": "stream",
     "text": [
      "+--------+--------------------+---------------------+---------------+-------------+----------+------------------+------------+------------+------------+-----------+-----+-------+----------+------------+---------------------+------------+--------------------+-----------+\n",
      "|VendorID|tpep_pickup_datetime|tpep_dropoff_datetime|passenger_count|trip_distance|RatecodeID|store_and_fwd_flag|PULocationID|DOLocationID|payment_type|fare_amount|extra|mta_tax|tip_amount|tolls_amount|improvement_surcharge|total_amount|congestion_surcharge|Airport_fee|\n",
      "+--------+--------------------+---------------------+---------------+-------------+----------+------------------+------------+------------+------------+-----------+-----+-------+----------+------------+---------------------+------------+--------------------+-----------+\n",
      "|       2| 2023-03-01 01:06:43|  2023-03-01 01:16:43|              1|          0.0|         1|                 N|         238|          42|           2|        8.6|  1.0|    0.5|       0.0|         0.0|                  1.0|        11.1|                 0.0|        0.0|\n",
      "|       2| 2023-03-01 01:08:25|  2023-03-01 01:39:30|              2|         12.4|         1|                 N|         138|         231|           1|       52.7|  6.0|    0.5|     12.54|         0.0|                  1.0|       76.49|                 2.5|       1.25|\n",
      "|       1| 2023-03-01 01:15:04|  2023-03-01 01:29:26|              0|          3.3|         1|                 N|         140|         186|           1|       18.4|  3.5|    0.5|      4.65|         0.0|                  1.0|       28.05|                 2.5|        0.0|\n",
      "|       1| 2023-03-01 01:49:37|  2023-03-01 02:01:05|              1|          2.9|         1|                 N|         140|          43|           1|       15.6|  3.5|    0.5|       4.1|         0.0|                  1.0|        24.7|                 2.5|        0.0|\n",
      "|       2| 2023-03-01 01:08:04|  2023-03-01 01:11:06|              1|         1.23|         1|                 N|          79|         137|           1|        7.2|  1.0|    0.5|      2.44|         0.0|                  1.0|       14.64|                 2.5|        0.0|\n",
      "|       1| 2023-03-01 01:09:09|  2023-03-01 01:17:34|              1|          1.2|         1|                 N|         162|         137|           1|       10.0|  3.5|    0.5|       3.0|         0.0|                  1.0|        18.0|                 2.5|        0.0|\n",
      "|       1| 2023-03-01 01:32:21|  2023-03-01 01:42:08|              1|          1.8|         1|                 N|         170|          48|           1|       12.1|  3.5|    0.5|       3.4|         0.0|                  1.0|        20.5|                 2.5|        0.0|\n",
      "|       1| 2023-03-01 01:45:12|  2023-03-01 01:52:37|              1|          2.0|         1|                 N|          48|         164|           2|       10.7|  3.5|    0.5|       0.0|         0.0|                  1.0|        15.7|                 2.5|        0.0|\n",
      "|       1| 2023-03-01 01:19:43|  2023-03-01 01:39:37|              1|          5.3|         1|                 N|         113|          61|           1|       26.1|  3.5|    0.5|       9.3|         0.0|                  1.0|        40.4|                 2.5|        0.0|\n",
      "|       2| 2023-03-01 01:08:42|  2023-03-01 01:18:45|              1|         2.27|         1|                 N|         239|         263|           1|       13.5|  1.0|    0.5|       3.7|         0.0|                  1.0|        22.2|                 2.5|        0.0|\n",
      "+--------+--------------------+---------------------+---------------+-------------+----------+------------------+------------+------------+------------+-----------+-----+-------+----------+------------+---------------------+------------+--------------------+-----------+\n",
      "only showing top 10 rows\n",
      "\n"
     ]
    }
   ],
   "source": [
    "df.show(10)"
   ]
  }
 ],
 "metadata": {
  "kernelspec": {
   "display_name": "PYSPARK",
   "language": "python",
   "name": "python3"
  },
  "language_info": {
   "codemirror_mode": {
    "name": "ipython",
    "version": 3
   },
   "file_extension": ".py",
   "mimetype": "text/x-python",
   "name": "python",
   "nbconvert_exporter": "python",
   "pygments_lexer": "ipython3",
   "version": "3.8.16"
  },
  "orig_nbformat": 4
 },
 "nbformat": 4,
 "nbformat_minor": 2
}
