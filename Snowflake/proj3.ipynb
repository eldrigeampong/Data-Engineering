{
 "cells": [
  {
   "attachments": {},
   "cell_type": "markdown",
   "metadata": {},
   "source": [
    "# Import Modules"
   ]
  },
  {
   "cell_type": "code",
   "execution_count": 1,
   "metadata": {},
   "outputs": [
    {
     "name": "stderr",
     "output_type": "stream",
     "text": [
      "c:\\Users\\ASANTE\\miniconda3\\envs\\SNOWFLAKE\\lib\\site-packages\\snowflake\\connector\\options.py:108: UserWarning: You have an incompatible version of 'pyarrow' installed (12.0.1), please install a version that adheres to: 'pyarrow<10.1.0,>=10.0.1; extra == \"pandas\"'\n",
      "  warn_incompatible_dep(\n",
      "Failed to import ArrowResult. No Apache Arrow result set format can be used. ImportError: DLL load failed while importing arrow_iterator: The specified procedure could not be found.\n"
     ]
    }
   ],
   "source": [
    "import os\n",
    "import pandas as pd\n",
    "from credentials import *\n",
    "import snowflake.connector\n",
    "from snowflake.sqlalchemy import URL\n",
    "from sqlalchemy import create_engine, text"
   ]
  },
  {
   "attachments": {},
   "cell_type": "markdown",
   "metadata": {},
   "source": [
    "# Helper Functions"
   ]
  },
  {
   "cell_type": "code",
   "execution_count": 2,
   "metadata": {},
   "outputs": [],
   "source": [
    "def make_conn(**db_parameters):\n",
    "    \"\"\"\n",
    "    Composes a SQLAlchemy connect string from the given database connection parameters.\n",
    "\n",
    "    https://github.com/snowflakedb/snowflake-sqlalchemy#escaping-special-characters-such-as---signs-in-passwords\n",
    "    \n",
    "    \"\"\"\n",
    "    try:\n",
    "        engine = create_engine(URL(**db_parameters))\n",
    "        return engine.connect()\n",
    "    \n",
    "    except snowflake.connector.errors.ProgrammingError as e:\n",
    "        return f\"Error: {e}\"\n",
    "    \n",
    "    finally:\n",
    "        engine.connect().close()\n",
    "        engine.dispose()"
   ]
  },
  {
   "attachments": {},
   "cell_type": "markdown",
   "metadata": {},
   "source": [
    "# Establsih Connection"
   ]
  },
  {
   "cell_type": "code",
   "execution_count": 3,
   "metadata": {},
   "outputs": [],
   "source": [
    "conn = make_conn(role=ROLE, account=ACCOUNT_ID, user=USERNAME, password=PASSWORD, database='', schema='', warehouse=WAREHOUSE)"
   ]
  },
  {
   "attachments": {},
   "cell_type": "markdown",
   "metadata": {},
   "source": [
    "# Create Database and Schema"
   ]
  },
  {
   "attachments": {},
   "cell_type": "markdown",
   "metadata": {},
   "source": [
    "Create Database"
   ]
  },
  {
   "cell_type": "code",
   "execution_count": 4,
   "metadata": {},
   "outputs": [
    {
     "data": {
      "text/plain": [
       "<sqlalchemy.engine.cursor.LegacyCursorResult at 0x1b06900a160>"
      ]
     },
     "execution_count": 4,
     "metadata": {},
     "output_type": "execute_result"
    }
   ],
   "source": [
    "db_name = \"aws_metro_bike_share\"\n",
    "\n",
    "create_database_query = f\"\"\"\n",
    "                         CREATE DATABASE IF NOT EXISTS {db_name}\n",
    "                         \"\"\"\n",
    "\n",
    "conn.execute(text(create_database_query))"
   ]
  },
  {
   "attachments": {},
   "cell_type": "markdown",
   "metadata": {},
   "source": [
    "Create Schema"
   ]
  },
  {
   "cell_type": "code",
   "execution_count": 5,
   "metadata": {},
   "outputs": [
    {
     "data": {
      "text/plain": [
       "<sqlalchemy.engine.cursor.LegacyCursorResult at 0x1b06a66c0a0>"
      ]
     },
     "execution_count": 5,
     "metadata": {},
     "output_type": "execute_result"
    }
   ],
   "source": [
    "conn = make_conn(role=ROLE, account=ACCOUNT_ID, user=USERNAME, password=PASSWORD, database=db_name, schema='', warehouse=WAREHOUSE)\n",
    "\n",
    "schema_name = \"aws_metro_bike_share_schema\"\n",
    "\n",
    "create_schema_query = f\"\"\"\n",
    "                       CREATE SCHEMA IF NOT EXISTS {schema_name}\n",
    "                       \"\"\"\n",
    "\n",
    "conn.execute(text(create_schema_query))"
   ]
  },
  {
   "attachments": {},
   "cell_type": "markdown",
   "metadata": {},
   "source": [
    "# Create AWS Integration"
   ]
  },
  {
   "cell_type": "code",
   "execution_count": 6,
   "metadata": {},
   "outputs": [
    {
     "data": {
      "text/plain": [
       "[('AWS_S3_INTEGRATION', 'EXTERNAL_STAGE', 'STORAGE', 'true', 'AWS Storage Integration', datetime.datetime(2023, 7, 24, 15, 44, 5, 724000, tzinfo=<DstTzInfo 'America/Los_Angeles' PDT-1 day, 17:00:00 DST>))]"
      ]
     },
     "execution_count": 6,
     "metadata": {},
     "output_type": "execute_result"
    }
   ],
   "source": [
    "conn = make_conn(role=ROLE, account=ACCOUNT_ID, user=USERNAME, password=PASSWORD, database=db_name, schema=schema_name, warehouse=WAREHOUSE)\n",
    "integration_name = 'aws_s3_integration'\n",
    "integration_comment = 'AWS Storage Integration'\n",
    "\n",
    "aws_integration_query = f\"\"\"\n",
    "                         CREATE OR REPLACE STORAGE INTEGRATION {integration_name}\n",
    "                         TYPE = EXTERNAL_STAGE\n",
    "                         STORAGE_PROVIDER = 'S3'\n",
    "                         ENABLED = TRUE\n",
    "                         STORAGE_AWS_ROLE_ARN = '{AWS_ARN}'\n",
    "                         STORAGE_ALLOWED_LOCATIONS = ('{AWS_LOCATION}')\n",
    "                         COMMENT = '{integration_comment}'\n",
    "\n",
    "                        \"\"\"\n",
    "\n",
    "conn.execute(text(aws_integration_query))\n",
    "conn.execute(text(\"\"\"SHOW INTEGRATIONS like '%s3%'\"\"\")).fetchall()"
   ]
  },
  {
   "cell_type": "code",
   "execution_count": 7,
   "metadata": {},
   "outputs": [
    {
     "data": {
      "text/plain": [
       "[('Statement executed successfully.',)]"
      ]
     },
     "execution_count": 7,
     "metadata": {},
     "output_type": "execute_result"
    }
   ],
   "source": [
    "grant_access_query = f\"\"\"\n",
    "                      GRANT USAGE ON INTEGRATION {integration_name} TO ROLE {ROLE}\n",
    "                      \"\"\"\n",
    "\n",
    "conn.execute(text(grant_access_query)).fetchall()"
   ]
  },
  {
   "attachments": {},
   "cell_type": "markdown",
   "metadata": {},
   "source": [
    "# Specify File Format"
   ]
  },
  {
   "cell_type": "code",
   "execution_count": 8,
   "metadata": {},
   "outputs": [
    {
     "data": {
      "text/plain": [
       "[('File format MY_CSV_FILE successfully created.',)]"
      ]
     },
     "execution_count": 8,
     "metadata": {},
     "output_type": "execute_result"
    }
   ],
   "source": [
    "file_format_name = \"my_csv_file\"\n",
    "file_type = \"CSV\"\n",
    "\n",
    "file_format_query = f\"\"\"\n",
    "                     CREATE OR REPLACE FILE FORMAT {file_format_name}\n",
    "                     TYPE = {file_type}\n",
    "                     \"\"\"\n",
    "\n",
    "conn.execute(text(file_format_query)).fetchall()"
   ]
  },
  {
   "attachments": {},
   "cell_type": "markdown",
   "metadata": {},
   "source": [
    "# Create Stage"
   ]
  },
  {
   "cell_type": "code",
   "execution_count": 9,
   "metadata": {},
   "outputs": [
    {
     "data": {
      "text/plain": [
       "[('Stage area AWS_S3_STAGE successfully created.',)]"
      ]
     },
     "execution_count": 9,
     "metadata": {},
     "output_type": "execute_result"
    }
   ],
   "source": [
    "aws_stage_name = \"aws_s3_stage\"\n",
    "\n",
    "aws_stage_query = f\"\"\"\n",
    "                   CREATE OR REPLACE STAGE {aws_stage_name}\n",
    "                   STORAGE_INTEGRATION = {integration_name}\n",
    "                   FILE_FORMAT = {file_format_name}\n",
    "                   URL = {AWS_LOCATION}\n",
    "                   \"\"\"\n",
    "\n",
    "conn.execute(text(aws_stage_query)).fetchall()"
   ]
  },
  {
   "attachments": {},
   "cell_type": "markdown",
   "metadata": {},
   "source": [
    "# Create Table"
   ]
  },
  {
   "cell_type": "code",
   "execution_count": 10,
   "metadata": {},
   "outputs": [
    {
     "data": {
      "text/plain": [
       "[('Table AWS_BIKESHARE successfully created.',)]"
      ]
     },
     "execution_count": 10,
     "metadata": {},
     "output_type": "execute_result"
    }
   ],
   "source": [
    "table_name = \"aws_bikeshare\"\n",
    "table_comment = \"my bike_share snowflake aws table\"\n",
    "\n",
    "create_table_query = f\"\"\"CREATE TABLE IF NOT EXISTS {table_name} (\n",
    "                                                                   trip_id VARCHAR,\n",
    "                                                                   duration VARCHAR,\n",
    "                                                                   start_time VARCHAR,\n",
    "                                                                   end_time VARCHAR,\n",
    "                                                                   start_station VARCHAR,\n",
    "                                                                   start_lat VARCHAR,\n",
    "                                                                   start_lon VARCHAR,\n",
    "                                                                   end_station VARCHAR,\n",
    "                                                                   end_lat VARCHAR,\n",
    "                                                                   end_lon VARCHAR,\n",
    "                                                                   bike_id VARCHAR,\n",
    "                                                                   plan_duration VARCHAR,\n",
    "                                                                   trip_route_category STRING,\n",
    "                                                                   passholder_type STRING,\n",
    "                                                                   bike_type STRING\n",
    "                                                                )\n",
    "                         \n",
    "                                    COMMENT = '{table_comment}'\n",
    "                                \"\"\"\n",
    "\n",
    "conn.execute(text(create_table_query)).fetchall()"
   ]
  },
  {
   "attachments": {},
   "cell_type": "markdown",
   "metadata": {},
   "source": [
    "# Copy Data Into Table"
   ]
  },
  {
   "cell_type": "code",
   "execution_count": 11,
   "metadata": {},
   "outputs": [
    {
     "name": "stderr",
     "output_type": "stream",
     "text": [
      "C:\\Users\\ASANTE\\AppData\\Local\\Temp\\ipykernel_21628\\2767545508.py:10: RemovedIn20Warning: Deprecated API features detected! These feature(s) are not compatible with SQLAlchemy 2.0. To prevent incompatible upgrades prior to updating applications, ensure requirements files are pinned to \"sqlalchemy<2.0\". Set environment variable SQLALCHEMY_WARN_20=1 to show all deprecation warnings.  Set environment variable SQLALCHEMY_SILENCE_UBER_WARNING=1 to silence this message. (Background on SQLAlchemy 2.0 at: https://sqlalche.me/e/b8d9)\n",
      "  conn.execute(text(copy_data_query)).fetchall()\n"
     ]
    },
    {
     "data": {
      "text/plain": [
       "[('s3://bikeshare-2023/metro-trips-2023-q2.csv', 'LOADED', 109436, 109436, 1, 0, None, None, None, None)]"
      ]
     },
     "execution_count": 11,
     "metadata": {},
     "output_type": "execute_result"
    }
   ],
   "source": [
    "copy_data_query = f\"\"\"\n",
    "                   COPY INTO {table_name}\n",
    "                   FROM @{aws_stage_name}\n",
    "                   FILE_FORMAT = (TYPE = CSV)\n",
    "                   ON_ERROR = ABORT_STATEMENT\n",
    "                   PURGE = FALSE\n",
    "        \n",
    "                   \"\"\"\n",
    "\n",
    "conn.execute(text(copy_data_query)).fetchall()"
   ]
  },
  {
   "attachments": {},
   "cell_type": "markdown",
   "metadata": {},
   "source": [
    "# Query Table"
   ]
  },
  {
   "cell_type": "code",
   "execution_count": 12,
   "metadata": {},
   "outputs": [],
   "source": [
    "data = conn.execute(text(f\"\"\"SELECT DISTINCT * FROM {table_name}\"\"\")).fetchall()\n",
    "df = pd.DataFrame(data)"
   ]
  },
  {
   "attachments": {},
   "cell_type": "markdown",
   "metadata": {},
   "source": [
    "# View DataFrame"
   ]
  },
  {
   "cell_type": "code",
   "execution_count": 13,
   "metadata": {},
   "outputs": [
    {
     "data": {
      "text/html": [
       "<div>\n",
       "<style scoped>\n",
       "    .dataframe tbody tr th:only-of-type {\n",
       "        vertical-align: middle;\n",
       "    }\n",
       "\n",
       "    .dataframe tbody tr th {\n",
       "        vertical-align: top;\n",
       "    }\n",
       "\n",
       "    .dataframe thead th {\n",
       "        text-align: right;\n",
       "    }\n",
       "</style>\n",
       "<table border=\"1\" class=\"dataframe\">\n",
       "  <thead>\n",
       "    <tr style=\"text-align: right;\">\n",
       "      <th></th>\n",
       "      <th>trip_id</th>\n",
       "      <th>duration</th>\n",
       "      <th>start_time</th>\n",
       "      <th>end_time</th>\n",
       "      <th>start_station</th>\n",
       "      <th>start_lat</th>\n",
       "      <th>start_lon</th>\n",
       "      <th>end_station</th>\n",
       "      <th>end_lat</th>\n",
       "      <th>end_lon</th>\n",
       "      <th>bike_id</th>\n",
       "      <th>plan_duration</th>\n",
       "      <th>trip_route_category</th>\n",
       "      <th>passholder_type</th>\n",
       "      <th>bike_type</th>\n",
       "    </tr>\n",
       "  </thead>\n",
       "  <tbody>\n",
       "    <tr>\n",
       "      <th>0</th>\n",
       "      <td>249955060</td>\n",
       "      <td>41</td>\n",
       "      <td>4/1/2023 0:00</td>\n",
       "      <td>4/1/2023 0:41</td>\n",
       "      <td>4643</td>\n",
       "      <td>34.07262</td>\n",
       "      <td>-118.44944</td>\n",
       "      <td>4643</td>\n",
       "      <td>34.07262</td>\n",
       "      <td>-118.44944</td>\n",
       "      <td>22398</td>\n",
       "      <td>30</td>\n",
       "      <td>Round Trip</td>\n",
       "      <td>Monthly Pass</td>\n",
       "      <td>electric</td>\n",
       "    </tr>\n",
       "    <tr>\n",
       "      <th>1</th>\n",
       "      <td>249954667</td>\n",
       "      <td>2</td>\n",
       "      <td>4/1/2023 0:02</td>\n",
       "      <td>4/1/2023 0:04</td>\n",
       "      <td>4523</td>\n",
       "      <td>34.068748</td>\n",
       "      <td>-118.30928</td>\n",
       "      <td>4538</td>\n",
       "      <td>34.06543</td>\n",
       "      <td>-118.308823</td>\n",
       "      <td>6591</td>\n",
       "      <td>30</td>\n",
       "      <td>One Way</td>\n",
       "      <td>Monthly Pass</td>\n",
       "      <td>standard</td>\n",
       "    </tr>\n",
       "    <tr>\n",
       "      <th>2</th>\n",
       "      <td>249954776</td>\n",
       "      <td>12</td>\n",
       "      <td>4/1/2023 0:03</td>\n",
       "      <td>4/1/2023 0:15</td>\n",
       "      <td>3034</td>\n",
       "      <td>34.042061</td>\n",
       "      <td>-118.263382</td>\n",
       "      <td>4491</td>\n",
       "      <td>34.04744</td>\n",
       "      <td>-118.24794</td>\n",
       "      <td>13897</td>\n",
       "      <td>365</td>\n",
       "      <td>One Way</td>\n",
       "      <td>Annual Pass</td>\n",
       "      <td>standard</td>\n",
       "    </tr>\n",
       "    <tr>\n",
       "      <th>3</th>\n",
       "      <td>249954777</td>\n",
       "      <td>11</td>\n",
       "      <td>4/1/2023 0:04</td>\n",
       "      <td>4/1/2023 0:15</td>\n",
       "      <td>3056</td>\n",
       "      <td>34.03746</td>\n",
       "      <td>-118.265381</td>\n",
       "      <td>4491</td>\n",
       "      <td>34.04744</td>\n",
       "      <td>-118.24794</td>\n",
       "      <td>15488</td>\n",
       "      <td>30</td>\n",
       "      <td>One Way</td>\n",
       "      <td>Monthly Pass</td>\n",
       "      <td>standard</td>\n",
       "    </tr>\n",
       "    <tr>\n",
       "      <th>4</th>\n",
       "      <td>249954826</td>\n",
       "      <td>15</td>\n",
       "      <td>4/1/2023 0:04</td>\n",
       "      <td>4/1/2023 0:19</td>\n",
       "      <td>4538</td>\n",
       "      <td>34.06543</td>\n",
       "      <td>-118.308823</td>\n",
       "      <td>4538</td>\n",
       "      <td>34.06543</td>\n",
       "      <td>-118.308823</td>\n",
       "      <td>20027</td>\n",
       "      <td>30</td>\n",
       "      <td>Round Trip</td>\n",
       "      <td>Monthly Pass</td>\n",
       "      <td>standard</td>\n",
       "    </tr>\n",
       "  </tbody>\n",
       "</table>\n",
       "</div>"
      ],
      "text/plain": [
       "     trip_id duration     start_time       end_time start_station  start_lat  \\\n",
       "0  249955060       41  4/1/2023 0:00  4/1/2023 0:41          4643   34.07262   \n",
       "1  249954667        2  4/1/2023 0:02  4/1/2023 0:04          4523  34.068748   \n",
       "2  249954776       12  4/1/2023 0:03  4/1/2023 0:15          3034  34.042061   \n",
       "3  249954777       11  4/1/2023 0:04  4/1/2023 0:15          3056   34.03746   \n",
       "4  249954826       15  4/1/2023 0:04  4/1/2023 0:19          4538   34.06543   \n",
       "\n",
       "     start_lon end_station   end_lat      end_lon bike_id plan_duration  \\\n",
       "0   -118.44944        4643  34.07262   -118.44944   22398            30   \n",
       "1   -118.30928        4538  34.06543  -118.308823    6591            30   \n",
       "2  -118.263382        4491  34.04744   -118.24794   13897           365   \n",
       "3  -118.265381        4491  34.04744   -118.24794   15488            30   \n",
       "4  -118.308823        4538  34.06543  -118.308823   20027            30   \n",
       "\n",
       "  trip_route_category passholder_type bike_type  \n",
       "0          Round Trip    Monthly Pass  electric  \n",
       "1             One Way    Monthly Pass  standard  \n",
       "2             One Way     Annual Pass  standard  \n",
       "3             One Way    Monthly Pass  standard  \n",
       "4          Round Trip    Monthly Pass  standard  "
      ]
     },
     "execution_count": 13,
     "metadata": {},
     "output_type": "execute_result"
    }
   ],
   "source": [
    "df.head()"
   ]
  },
  {
   "cell_type": "code",
   "execution_count": 14,
   "metadata": {},
   "outputs": [
    {
     "data": {
      "text/html": [
       "<div>\n",
       "<style scoped>\n",
       "    .dataframe tbody tr th:only-of-type {\n",
       "        vertical-align: middle;\n",
       "    }\n",
       "\n",
       "    .dataframe tbody tr th {\n",
       "        vertical-align: top;\n",
       "    }\n",
       "\n",
       "    .dataframe thead th {\n",
       "        text-align: right;\n",
       "    }\n",
       "</style>\n",
       "<table border=\"1\" class=\"dataframe\">\n",
       "  <thead>\n",
       "    <tr style=\"text-align: right;\">\n",
       "      <th></th>\n",
       "      <th>trip_id</th>\n",
       "      <th>duration</th>\n",
       "      <th>start_time</th>\n",
       "      <th>end_time</th>\n",
       "      <th>start_station</th>\n",
       "      <th>start_lat</th>\n",
       "      <th>start_lon</th>\n",
       "      <th>end_station</th>\n",
       "      <th>end_lat</th>\n",
       "      <th>end_lon</th>\n",
       "      <th>bike_id</th>\n",
       "      <th>plan_duration</th>\n",
       "      <th>trip_route_category</th>\n",
       "      <th>passholder_type</th>\n",
       "      <th>bike_type</th>\n",
       "    </tr>\n",
       "  </thead>\n",
       "  <tbody>\n",
       "    <tr>\n",
       "      <th>109431</th>\n",
       "      <td>276550460</td>\n",
       "      <td>25</td>\n",
       "      <td>6/30/2023 19:49</td>\n",
       "      <td>6/30/2023 20:14</td>\n",
       "      <td>4266</td>\n",
       "      <td>34.026291</td>\n",
       "      <td>-118.277687</td>\n",
       "      <td>4405</td>\n",
       "      <td>34.051899</td>\n",
       "      <td>-118.293678</td>\n",
       "      <td>25355</td>\n",
       "      <td>30</td>\n",
       "      <td>One Way</td>\n",
       "      <td>Monthly Pass</td>\n",
       "      <td>electric</td>\n",
       "    </tr>\n",
       "    <tr>\n",
       "      <th>109432</th>\n",
       "      <td>276549639</td>\n",
       "      <td>4</td>\n",
       "      <td>6/30/2023 19:56</td>\n",
       "      <td>6/30/2023 20:00</td>\n",
       "      <td>4303</td>\n",
       "      <td>34.098011</td>\n",
       "      <td>-118.287071</td>\n",
       "      <td>4472</td>\n",
       "      <td>34.092602</td>\n",
       "      <td>-118.28093</td>\n",
       "      <td>6020</td>\n",
       "      <td>365</td>\n",
       "      <td>One Way</td>\n",
       "      <td>Annual Pass</td>\n",
       "      <td>standard</td>\n",
       "    </tr>\n",
       "    <tr>\n",
       "      <th>109433</th>\n",
       "      <td>276552494</td>\n",
       "      <td>7</td>\n",
       "      <td>6/30/2023 20:40</td>\n",
       "      <td>6/30/2023 20:47</td>\n",
       "      <td>4214</td>\n",
       "      <td>33.99556</td>\n",
       "      <td>-118.481552</td>\n",
       "      <td>4207</td>\n",
       "      <td>34.000881</td>\n",
       "      <td>-118.46891</td>\n",
       "      <td>6617</td>\n",
       "      <td>365</td>\n",
       "      <td>One Way</td>\n",
       "      <td>Annual Pass</td>\n",
       "      <td>standard</td>\n",
       "    </tr>\n",
       "    <tr>\n",
       "      <th>109434</th>\n",
       "      <td>276565577</td>\n",
       "      <td>7</td>\n",
       "      <td>6/30/2023 21:31</td>\n",
       "      <td>6/30/2023 21:38</td>\n",
       "      <td>3018</td>\n",
       "      <td>34.043732</td>\n",
       "      <td>-118.260139</td>\n",
       "      <td>3008</td>\n",
       "      <td>34.046612</td>\n",
       "      <td>-118.262733</td>\n",
       "      <td>24830</td>\n",
       "      <td>30</td>\n",
       "      <td>One Way</td>\n",
       "      <td>Monthly Pass</td>\n",
       "      <td>electric</td>\n",
       "    </tr>\n",
       "    <tr>\n",
       "      <th>109435</th>\n",
       "      <td>276590585</td>\n",
       "      <td>23</td>\n",
       "      <td>6/30/2023 23:44</td>\n",
       "      <td>7/1/2023 0:07</td>\n",
       "      <td>3049</td>\n",
       "      <td>34.056969</td>\n",
       "      <td>-118.253593</td>\n",
       "      <td>3049</td>\n",
       "      <td>34.056969</td>\n",
       "      <td>-118.253593</td>\n",
       "      <td>6205</td>\n",
       "      <td>1</td>\n",
       "      <td>Round Trip</td>\n",
       "      <td>Walk-up</td>\n",
       "      <td>standard</td>\n",
       "    </tr>\n",
       "  </tbody>\n",
       "</table>\n",
       "</div>"
      ],
      "text/plain": [
       "          trip_id duration       start_time         end_time start_station  \\\n",
       "109431  276550460       25  6/30/2023 19:49  6/30/2023 20:14          4266   \n",
       "109432  276549639        4  6/30/2023 19:56  6/30/2023 20:00          4303   \n",
       "109433  276552494        7  6/30/2023 20:40  6/30/2023 20:47          4214   \n",
       "109434  276565577        7  6/30/2023 21:31  6/30/2023 21:38          3018   \n",
       "109435  276590585       23  6/30/2023 23:44    7/1/2023 0:07          3049   \n",
       "\n",
       "        start_lat    start_lon end_station    end_lat      end_lon bike_id  \\\n",
       "109431  34.026291  -118.277687        4405  34.051899  -118.293678   25355   \n",
       "109432  34.098011  -118.287071        4472  34.092602   -118.28093    6020   \n",
       "109433   33.99556  -118.481552        4207  34.000881   -118.46891    6617   \n",
       "109434  34.043732  -118.260139        3008  34.046612  -118.262733   24830   \n",
       "109435  34.056969  -118.253593        3049  34.056969  -118.253593    6205   \n",
       "\n",
       "       plan_duration trip_route_category passholder_type bike_type  \n",
       "109431            30             One Way    Monthly Pass  electric  \n",
       "109432           365             One Way     Annual Pass  standard  \n",
       "109433           365             One Way     Annual Pass  standard  \n",
       "109434            30             One Way    Monthly Pass  electric  \n",
       "109435             1          Round Trip         Walk-up  standard  "
      ]
     },
     "execution_count": 14,
     "metadata": {},
     "output_type": "execute_result"
    }
   ],
   "source": [
    "df.tail()"
   ]
  }
 ],
 "metadata": {
  "kernelspec": {
   "display_name": "SNOWFLAKE",
   "language": "python",
   "name": "python3"
  },
  "language_info": {
   "codemirror_mode": {
    "name": "ipython",
    "version": 3
   },
   "file_extension": ".py",
   "mimetype": "text/x-python",
   "name": "python",
   "nbconvert_exporter": "python",
   "pygments_lexer": "ipython3",
   "version": "3.8.17"
  },
  "orig_nbformat": 4
 },
 "nbformat": 4,
 "nbformat_minor": 2
}
