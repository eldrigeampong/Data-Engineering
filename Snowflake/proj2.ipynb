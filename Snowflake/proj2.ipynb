{
 "cells": [
  {
   "attachments": {},
   "cell_type": "markdown",
   "metadata": {},
   "source": [
    "# Import Modules"
   ]
  },
  {
   "cell_type": "code",
   "execution_count": 1,
   "metadata": {},
   "outputs": [
    {
     "name": "stderr",
     "output_type": "stream",
     "text": [
      "c:\\Users\\ASANTE\\miniconda3\\envs\\SNOWFLAKE\\lib\\site-packages\\snowflake\\connector\\options.py:108: UserWarning: You have an incompatible version of 'pyarrow' installed (12.0.1), please install a version that adheres to: 'pyarrow<10.1.0,>=10.0.1; extra == \"pandas\"'\n",
      "  warn_incompatible_dep(\n",
      "Failed to import ArrowResult. No Apache Arrow result set format can be used. ImportError: DLL load failed while importing arrow_iterator: The specified procedure could not be found.\n"
     ]
    }
   ],
   "source": [
    "import os\n",
    "import pandas as pd\n",
    "from credentials import *\n",
    "import snowflake.connector\n",
    "from Queries.BIKE_SHARE import *"
   ]
  },
  {
   "attachments": {},
   "cell_type": "markdown",
   "metadata": {},
   "source": [
    "# Helper Functions"
   ]
  },
  {
   "cell_type": "code",
   "execution_count": 2,
   "metadata": {},
   "outputs": [],
   "source": [
    "def create_wh(name: str, size: str, initially_suspended: str, statement_timeout_in_seconds: int, comment: str):\n",
    "    \"\"\"\n",
    "    Creates a new virtual warehouse in the system\n",
    "    \n",
    "    https://docs.snowflake.com/en/sql-reference/sql/create-warehouse\n",
    "\n",
    "    Parameters\n",
    "\n",
    "    name: str\n",
    "        Identifier for the virtual warehouse; must be unique for your account.\n",
    "\n",
    "    size: str\n",
    "        Specifies the size of the virtual warehouse. The size determines the amount of compute resources in each \n",
    "        cluster in the warehouse and, therefore, the number of credits consumed while the warehouse is running.\n",
    "\n",
    "    initially_suspended: str\n",
    "        Specifies whether to automatically resume a warehouse when a SQL statement (e.g. query) is submitted to it.\n",
    "\n",
    "    statement_timeout_in_seconds: int\n",
    "        Object parameter that specifies the time, in seconds, after which a running SQL statement (query, DDL, DML, etc.) is canceled by the system.\n",
    "\n",
    "    comment: str\n",
    "        Specifies a comment for the warehouse.\n",
    "        \n",
    "    \"\"\"\n",
    "    try:\n",
    "        conn = snowflake.connector.connect(user=USERNAME, password=PASSWORD, account=ACCOUNT_ID)\n",
    "        create_warehouse_query = f\"\"\"CREATE WAREHOUSE IF NOT EXISTS {name}\n",
    "                                     WAREHOUSE_SIZE = {size}\n",
    "                                     INITIALLY_SUSPENDED = {initially_suspended}\n",
    "                                     STATEMENT_TIMEOUT_IN_SECONDS = {statement_timeout_in_seconds}\n",
    "                                     COMMENT = '{comment}'\n",
    "                                  \"\"\"\n",
    "        conn.cursor().execute(command=create_warehouse_query)\n",
    "        conn.close()\n",
    "        \n",
    "        return f\"WAREHOUSE '{name}' with size '{size}' was created successfully!\"\n",
    "    \n",
    "    except snowflake.connector.errors.ProgrammingError as e:\n",
    "        return f\"Error: {e}\"\n",
    "    \n",
    "    \n",
    "def create_db(name: str, comment: str):\n",
    "    \"\"\"\n",
    "    Creates a new database in the system\n",
    "\n",
    "    https://docs.snowflake.com/en/sql-reference/sql/create-database\n",
    "\n",
    "    Parameters\n",
    "\n",
    "    name: str\n",
    "        Specifies the identifier for the database; must be unique for your account.\n",
    "\n",
    "    comment: str\n",
    "        Specifies a comment for the database.\n",
    "\n",
    "    \"\"\"\n",
    "    try:\n",
    "        conn = snowflake.connector.connect(user=USERNAME, password=PASSWORD, account=ACCOUNT_ID)\n",
    "        create_database_query = f\"\"\"CREATE DATABASE IF NOT EXISTS {name}\n",
    "                                    COMMENT = '{comment}'\n",
    "                                 \"\"\"\n",
    "        conn.cursor().execute(command=create_database_query)\n",
    "        conn.close()\n",
    "        \n",
    "        return f\"DATABASE '{name}' was created successfully!\"\n",
    "    \n",
    "    except snowflake.connector.errors.ProgrammingError as e:\n",
    "        return f\"Error: {e}\"\n",
    "    \n",
    "    \n",
    "def create_schema(db_name: str, name: str, comment: str):\n",
    "    \"\"\"\n",
    "    Creates a new schema in the current database.\n",
    "\n",
    "    https://docs.snowflake.com/en/sql-reference/sql/create-schema\n",
    "\n",
    "    Parameters\n",
    "\n",
    "    db_name: str\n",
    "        Specifies database for the schema\n",
    "\n",
    "    name: str\n",
    "        Specifies the identifier for the schema; must be unique for the database in which the schema is created.\n",
    "\n",
    "    comment: str\n",
    "        Specifies a comment for the schema.\n",
    "\n",
    "    \"\"\"\n",
    "    try:\n",
    "        conn = snowflake.connector.connect(user=USERNAME, password=PASSWORD, account=ACCOUNT_ID, database=db_name)\n",
    "        create_schema_query = f\"\"\"CREATE SCHEMA IF NOT EXISTS {name}\n",
    "                                  COMMENT = '{comment}'\n",
    "                               \"\"\"\n",
    "        conn.cursor().execute(command=create_schema_query)\n",
    "        conn.close()\n",
    "\n",
    "        return f\"SCHEMA '{name}' was created successfully!\"\n",
    "    \n",
    "    except snowflake.connector.errors.ProgrammingError as e:\n",
    "        return f\"Error: {e}\"\n",
    "    \n",
    "\n",
    "def create_table(db_name: str, schema_name: str, name: str, comment: str):\n",
    "    \"\"\"\n",
    "    Creates a new table in the current/specified schema or replaces an existing table.\n",
    "\n",
    "    https://docs.snowflake.com/en/sql-reference/sql/create-table\n",
    "\n",
    "    Parameters\n",
    "\n",
    "    db_name: str\n",
    "        Specifies database for the schema\n",
    "\n",
    "    schema_name: str\n",
    "        Specifies the identifier for the schema; must be unique for the database in which the schema is created.\n",
    "\n",
    "    name: str\n",
    "        Specifies the identifier (i.e. name) for the table; must be unique for the schema in which the table is created.\n",
    "\n",
    "    comment: str\n",
    "        Specifies a comment for the schema.\n",
    "\n",
    "    \"\"\"\n",
    "    try:\n",
    "        conn = snowflake.connector.connect(user=USERNAME, password=PASSWORD, account=ACCOUNT_ID, database=db_name, schema=schema_name)\n",
    "        create_table_query = f\"\"\"CREATE TABLE IF NOT EXISTS {name} (\n",
    "                                                                     trip_id VARCHAR,\n",
    "                                                                     duration VARCHAR,\n",
    "                                                                     start_time VARCHAR,\n",
    "                                                                     end_time VARCHAR,\n",
    "                                                                     start_station VARCHAR,\n",
    "                                                                     start_lat VARCHAR,\n",
    "                                                                     start_lon VARCHAR,\n",
    "                                                                     end_station VARCHAR,\n",
    "                                                                     end_lat VARCHAR,\n",
    "                                                                     end_lon VARCHAR,\n",
    "                                                                     bike_id VARCHAR,\n",
    "                                                                     plan_duration VARCHAR,\n",
    "                                                                     trip_route_category STRING,\n",
    "                                                                     passholder_type STRING,\n",
    "                                                                     bike_type STRING\n",
    "                                                                    )\n",
    "                         \n",
    "                                    COMMENT = '{comment}'\n",
    "                                \"\"\"\n",
    "        conn.cursor().execute(command=create_table_query)\n",
    "        conn.close()\n",
    "\n",
    "        return f\"TABLE '{name}' was created successfully!\"\n",
    "    \n",
    "    except snowflake.connector.errors.ProgrammingError as e:\n",
    "        return f\"Error: {e}\"\n",
    "    \n",
    "    \n",
    "def create_stage(db_name: str, schema_name: str, name: str, comment: str):\n",
    "    \"\"\"\n",
    "    Creates a new named internal or external stage to use for loading data from files into Snowflake tables and unloading data from tables into files\n",
    "\n",
    "    https://docs.snowflake.com/en/sql-reference/sql/create-stage\n",
    "\n",
    "    Parameters\n",
    "\n",
    "    db_name: str\n",
    "        Specifies database for the schema\n",
    "\n",
    "    schema_name: str\n",
    "        Specifies the identifier for the schema; must be unique for the database in which the schema is created.\n",
    "\n",
    "    name: str\n",
    "        Specifies the identifier for the stage; must be unique for the schema in which the stage is created.\n",
    "\n",
    "    comment: str\n",
    "        Specifies a comment for the stage.\n",
    "\n",
    "    \"\"\"\n",
    "    try:\n",
    "        conn = snowflake.connector.connect(user=USERNAME, password=PASSWORD, account=ACCOUNT_ID, database=db_name, schema=schema_name)\n",
    "        create_stage_query = f\"\"\"CREATE STAGE IF NOT EXISTS {name}\n",
    "                                 DIRECTORY = (ENABLE = TRUE)\n",
    "                                 FILE_FORMAT = (TYPE = 'CSV')\n",
    "                                 ENCRYPTION = (TYPE = 'SNOWFLAKE_SSE')\n",
    "                                 COPY_OPTIONS = (ON_ERROR='abort_statement')\n",
    "                                 COMMENT = '{comment}'\n",
    "                              \"\"\"\n",
    "        conn.cursor().execute(create_stage_query)\n",
    "        conn.close()\n",
    "\n",
    "        return f\"STAGE '{name}' was created successfully!\"\n",
    "    \n",
    "    except snowflake.connector.errors.ProgrammingError as e:\n",
    "        return f\"Error: {e}\"\n",
    "    \n",
    "\n",
    "def upload_file_to_stage(db_name: str, schema_name: str, full_file_path: str, stage_name: str, filename: str):\n",
    "    \"\"\"\n",
    "    Uploads (i.e. stages) data files from a local directory/folder on a client machine to one of the following Snowflake stages:\n",
    "    Named internal stage, Internal stage for a specified table or Internal stage for the current user.\n",
    "\n",
    "    https://docs.snowflake.com/en/sql-reference/sql/put\n",
    "\n",
    "    Parameters\n",
    "\n",
    "    db_name: str\n",
    "        Specifies database for the schema\n",
    "\n",
    "    schema_name: str\n",
    "        Specifies the identifier for the schema; must be unique for the database in which the schema is created.\n",
    "\n",
    "    full_file_path: str\n",
    "        full path to the file\n",
    "\n",
    "    stage_name: str\n",
    "        Specifies the identifier for the stage; must be unique for the schema in which the stage is created.\n",
    "\n",
    "    filename: str\n",
    "        name of the file(s) to upload\n",
    "\n",
    "    \"\"\"\n",
    "    try:\n",
    "        conn = snowflake.connector.connect(user=USERNAME, password=PASSWORD, account=ACCOUNT_ID, database=db_name, schema=schema_name)\n",
    "        upload_file_query = f\"\"\"PUT file://{full_file_path} @{stage_name}\"\"\"\n",
    "\n",
    "        conn.cursor().execute(upload_file_query)\n",
    "        conn.close()\n",
    "\n",
    "        return f\"'{filename}' was successfully uploaded!\"\n",
    "    \n",
    "    except snowflake.connector.errors.ProgrammingError as e:\n",
    "        return f\"Error: {e}\"\n",
    "    \n",
    "\n",
    "def copy_into_table(db_name: str, schema_name: str, stage_name: str, table_name: str):\n",
    "    \"\"\"\n",
    "    Loads data from staged files to an existing table. \n",
    "\n",
    "    https://docs.snowflake.com/en/sql-reference/sql/copy-into-table\n",
    "\n",
    "    Parameters\n",
    "\n",
    "    db_name: str\n",
    "        Specifies database for the schema\n",
    "\n",
    "    schema_name: str\n",
    "        Specifies the identifier for the schema; must be unique for the database in which the schema is created.\n",
    "\n",
    "    stage_name: str\n",
    "        Specifies the identifier for the stage; must be unique for the schema in which the stage is created.\n",
    "\n",
    "    table_name: str\n",
    "        Specifies the identifier (i.e. name) for the table; must be unique for the schema in which the table is created.\n",
    "\n",
    "    \"\"\"\n",
    "    try:\n",
    "        conn = snowflake.connector.connect(user=USERNAME, password=PASSWORD, account=ACCOUNT_ID, database=db_name, schema=schema_name)\n",
    "        copy_data_query = f\"\"\"COPY INTO {table_name}\n",
    "                              FROM @{stage_name}\n",
    "                              FILE_FORMAT = (TYPE = CSV)\n",
    "                              ON_ERROR = ABORT_STATEMENT\n",
    "                              PURGE = FALSE\n",
    "                           \"\"\"\n",
    "        \n",
    "        conn.cursor().execute(copy_data_query)\n",
    "        conn.close()\n",
    "\n",
    "        return f\"data was successfully copied into {table_name}\"\n",
    "    \n",
    "    except snowflake.connector.errors.ProgrammingError as e:\n",
    "        return f\"Error: {e}\"\n",
    "    \n",
    "\n",
    "def fetch_data(user: str, password: str, account: str, warehouse: str, database: str, schema: str, sql_query, col_names) -> pd.DataFrame:\n",
    "    \"\"\"\n",
    "    Fetches data from a Snowflake database and returns it as a Pandas DataFrame.\n",
    "\n",
    "    Parameters\n",
    "\n",
    "    user: str\n",
    "      name of snowflake user\n",
    "\n",
    "    password: str\n",
    "      password of snowflake user\n",
    "\n",
    "    account: str\n",
    "      id of account holder\n",
    "\n",
    "    warehouse: str  \n",
    "      name of snowflake warehouse\n",
    "          \n",
    "    database: str\n",
    "      database name\n",
    "\n",
    "    schema: str\n",
    "      schema name\n",
    "\n",
    "    sql_query: str\n",
    "        query to execute\n",
    "\n",
    "    col_names: list[str]\n",
    "        column names to use\n",
    "\n",
    "    Returns:\n",
    "        result as pandas dataframe\n",
    "    \n",
    "    \"\"\"\n",
    "    try:\n",
    "        conn = snowflake.connector.connect(user=user, password=password, account=account, warehouse=warehouse, database=database, schema=schema)\n",
    "        results = conn.cursor().execute(f\"{sql_query}\").fetchall()\n",
    "        print(\"Query executed successfully!\")\n",
    "\n",
    "        return pd.DataFrame(results, columns=col_names)\n",
    "    \n",
    "    except snowflake.connector.errors.Error as e:\n",
    "        return f\"Error executing query: {e}\""
   ]
  },
  {
   "attachments": {},
   "cell_type": "markdown",
   "metadata": {},
   "source": [
    "# Create Data Warehouse"
   ]
  },
  {
   "cell_type": "code",
   "execution_count": 3,
   "metadata": {},
   "outputs": [
    {
     "data": {
      "text/plain": [
       "\"WAREHOUSE 'MY_DATA_WH' with size 'XSMALL' was created successfully!\""
      ]
     },
     "execution_count": 3,
     "metadata": {},
     "output_type": "execute_result"
    }
   ],
   "source": [
    "warehouse_name = 'MY_DATA_WH'\n",
    "warehouse_size = 'XSMALL'\n",
    "initially_suspended = 'TRUE'\n",
    "statement_timeout = 300\n",
    "warehouse_comment = 'MY_DATA_WH'\n",
    "\n",
    "create_wh(warehouse_name, warehouse_size, initially_suspended, statement_timeout, warehouse_comment)"
   ]
  },
  {
   "attachments": {},
   "cell_type": "markdown",
   "metadata": {},
   "source": [
    "# Create Database"
   ]
  },
  {
   "cell_type": "code",
   "execution_count": 4,
   "metadata": {},
   "outputs": [
    {
     "data": {
      "text/plain": [
       "\"DATABASE 'Metro_Bike_Share' was created successfully!\""
      ]
     },
     "execution_count": 4,
     "metadata": {},
     "output_type": "execute_result"
    }
   ],
   "source": [
    "database_name = 'Metro_Bike_Share'\n",
    "database_comment = 'Metro Bike Share trip data'\n",
    "\n",
    "create_db(database_name, database_comment)"
   ]
  },
  {
   "attachments": {},
   "cell_type": "markdown",
   "metadata": {},
   "source": [
    "# Create Schema"
   ]
  },
  {
   "cell_type": "code",
   "execution_count": 5,
   "metadata": {},
   "outputs": [
    {
     "data": {
      "text/plain": [
       "\"SCHEMA 'My_Bike_Share_Schema' was created successfully!\""
      ]
     },
     "execution_count": 5,
     "metadata": {},
     "output_type": "execute_result"
    }
   ],
   "source": [
    "schema_name = 'My_Bike_Share_Schema'\n",
    "schema_comment = 'Metro Bike Share trip data'\n",
    "\n",
    "create_schema(database_name, schema_name, schema_comment)"
   ]
  },
  {
   "attachments": {},
   "cell_type": "markdown",
   "metadata": {},
   "source": [
    "# Create Table"
   ]
  },
  {
   "cell_type": "code",
   "execution_count": 6,
   "metadata": {},
   "outputs": [
    {
     "data": {
      "text/plain": [
       "\"TABLE 'Bike_Share' was created successfully!\""
      ]
     },
     "execution_count": 6,
     "metadata": {},
     "output_type": "execute_result"
    }
   ],
   "source": [
    "table_name = \"Bike_Share\"\n",
    "tbl_comment = \"Metro Bike Share trip data\"\n",
    "\n",
    "create_table(database_name, schema_name, table_name, tbl_comment)"
   ]
  },
  {
   "attachments": {},
   "cell_type": "markdown",
   "metadata": {},
   "source": [
    "# Create Stage"
   ]
  },
  {
   "cell_type": "code",
   "execution_count": 7,
   "metadata": {},
   "outputs": [
    {
     "data": {
      "text/plain": [
       "\"STAGE 'la_metro' was created successfully!\""
      ]
     },
     "execution_count": 7,
     "metadata": {},
     "output_type": "execute_result"
    }
   ],
   "source": [
    "internal_stage_name = \"la_metro\"\n",
    "stage_comment = \"la metro bikeshare stage\"\n",
    "\n",
    "create_stage(database_name, schema_name, internal_stage_name, stage_comment)"
   ]
  },
  {
   "attachments": {},
   "cell_type": "markdown",
   "metadata": {},
   "source": [
    "# Upload Files To Stage"
   ]
  },
  {
   "cell_type": "code",
   "execution_count": 8,
   "metadata": {},
   "outputs": [
    {
     "data": {
      "text/plain": [
       "\"'metro-trips-2023-q1.csv' was successfully uploaded!\""
      ]
     },
     "execution_count": 8,
     "metadata": {},
     "output_type": "execute_result"
    }
   ],
   "source": [
    "file_to_upload = 'metro-trips-2023-q1.csv'\n",
    "stage_name = 'la_metro'\n",
    "full_file_path = os.path.join(os.getcwd(), 'Datasets', 'MetroBikeShare', 'metro-trips-2023-q1.csv')\n",
    "\n",
    "upload_file_to_stage(database_name, schema_name, full_file_path, stage_name, f'{file_to_upload}')"
   ]
  },
  {
   "attachments": {},
   "cell_type": "markdown",
   "metadata": {},
   "source": [
    "# Copy Data Into Table"
   ]
  },
  {
   "cell_type": "code",
   "execution_count": 9,
   "metadata": {},
   "outputs": [
    {
     "data": {
      "text/plain": [
       "'data was successfully copied into Bike_Share'"
      ]
     },
     "execution_count": 9,
     "metadata": {},
     "output_type": "execute_result"
    }
   ],
   "source": [
    "copy_into_table(database_name, schema_name, stage_name, table_name)"
   ]
  },
  {
   "attachments": {},
   "cell_type": "markdown",
   "metadata": {},
   "source": [
    "# Query Data"
   ]
  },
  {
   "cell_type": "code",
   "execution_count": 10,
   "metadata": {},
   "outputs": [
    {
     "name": "stdout",
     "output_type": "stream",
     "text": [
      "Query executed successfully!\n"
     ]
    }
   ],
   "source": [
    "column_names = [\"trip_id\", \"duration\", \"start_time\", \"end_time\", \"start_station\", \"start_lat\", \"start_lon\", \"end_station\", \"end_lat\", \"end_lon\", \"bike_id\",\\\n",
    "                 \"trip_route_category\", \"passholder_type\"]\n",
    "\n",
    "df = fetch_data(USERNAME, PASSWORD, ACCOUNT_ID, warehouse_name, database_name, schema_name, query1, column_names)"
   ]
  },
  {
   "attachments": {},
   "cell_type": "markdown",
   "metadata": {},
   "source": [
    "# View DataFrame"
   ]
  },
  {
   "cell_type": "code",
   "execution_count": 11,
   "metadata": {},
   "outputs": [
    {
     "data": {
      "text/html": [
       "<div>\n",
       "<style scoped>\n",
       "    .dataframe tbody tr th:only-of-type {\n",
       "        vertical-align: middle;\n",
       "    }\n",
       "\n",
       "    .dataframe tbody tr th {\n",
       "        vertical-align: top;\n",
       "    }\n",
       "\n",
       "    .dataframe thead th {\n",
       "        text-align: right;\n",
       "    }\n",
       "</style>\n",
       "<table border=\"1\" class=\"dataframe\">\n",
       "  <thead>\n",
       "    <tr style=\"text-align: right;\">\n",
       "      <th></th>\n",
       "      <th>trip_id</th>\n",
       "      <th>duration</th>\n",
       "      <th>start_time</th>\n",
       "      <th>end_time</th>\n",
       "      <th>start_station</th>\n",
       "      <th>start_lat</th>\n",
       "      <th>start_lon</th>\n",
       "      <th>end_station</th>\n",
       "      <th>end_lat</th>\n",
       "      <th>end_lon</th>\n",
       "      <th>bike_id</th>\n",
       "      <th>trip_route_category</th>\n",
       "      <th>passholder_type</th>\n",
       "    </tr>\n",
       "  </thead>\n",
       "  <tbody>\n",
       "    <tr>\n",
       "      <th>0</th>\n",
       "      <td>231787362</td>\n",
       "      <td>9</td>\n",
       "      <td>2023-01-01 00:41:00</td>\n",
       "      <td>2023-01-01 00:50:00</td>\n",
       "      <td>4204</td>\n",
       "      <td>33.988419</td>\n",
       "      <td>-118.451630</td>\n",
       "      <td>4210</td>\n",
       "      <td>33.984341</td>\n",
       "      <td>-118.471550</td>\n",
       "      <td>23373</td>\n",
       "      <td>One Way</td>\n",
       "      <td>Monthly Pass</td>\n",
       "    </tr>\n",
       "    <tr>\n",
       "      <th>1</th>\n",
       "      <td>231801471</td>\n",
       "      <td>97</td>\n",
       "      <td>2023-01-01 01:05:00</td>\n",
       "      <td>2023-01-01 02:42:00</td>\n",
       "      <td>3054</td>\n",
       "      <td>34.039219</td>\n",
       "      <td>-118.236488</td>\n",
       "      <td>3054</td>\n",
       "      <td>34.039219</td>\n",
       "      <td>-118.236488</td>\n",
       "      <td>13870</td>\n",
       "      <td>Round Trip</td>\n",
       "      <td>Walk-up</td>\n",
       "    </tr>\n",
       "    <tr>\n",
       "      <th>2</th>\n",
       "      <td>231794062</td>\n",
       "      <td>15</td>\n",
       "      <td>2023-01-01 01:11:00</td>\n",
       "      <td>2023-01-01 01:26:00</td>\n",
       "      <td>3037</td>\n",
       "      <td>34.034801</td>\n",
       "      <td>-118.231277</td>\n",
       "      <td>3068</td>\n",
       "      <td>34.053200</td>\n",
       "      <td>-118.250954</td>\n",
       "      <td>23942</td>\n",
       "      <td>One Way</td>\n",
       "      <td>Walk-up</td>\n",
       "    </tr>\n",
       "    <tr>\n",
       "      <th>3</th>\n",
       "      <td>231794664</td>\n",
       "      <td>26</td>\n",
       "      <td>2023-01-01 01:31:00</td>\n",
       "      <td>2023-01-01 01:57:00</td>\n",
       "      <td>3063</td>\n",
       "      <td>34.048038</td>\n",
       "      <td>-118.253738</td>\n",
       "      <td>4454</td>\n",
       "      <td>34.017899</td>\n",
       "      <td>-118.291718</td>\n",
       "      <td>22873</td>\n",
       "      <td>One Way</td>\n",
       "      <td>Walk-up</td>\n",
       "    </tr>\n",
       "    <tr>\n",
       "      <th>4</th>\n",
       "      <td>231794562</td>\n",
       "      <td>8</td>\n",
       "      <td>2023-01-01 01:44:00</td>\n",
       "      <td>2023-01-01 01:52:00</td>\n",
       "      <td>3066</td>\n",
       "      <td>34.063389</td>\n",
       "      <td>-118.236160</td>\n",
       "      <td>3026</td>\n",
       "      <td>34.063179</td>\n",
       "      <td>-118.245880</td>\n",
       "      <td>14790</td>\n",
       "      <td>One Way</td>\n",
       "      <td>Walk-up</td>\n",
       "    </tr>\n",
       "  </tbody>\n",
       "</table>\n",
       "</div>"
      ],
      "text/plain": [
       "     trip_id  duration          start_time            end_time  start_station  \\\n",
       "0  231787362         9 2023-01-01 00:41:00 2023-01-01 00:50:00           4204   \n",
       "1  231801471        97 2023-01-01 01:05:00 2023-01-01 02:42:00           3054   \n",
       "2  231794062        15 2023-01-01 01:11:00 2023-01-01 01:26:00           3037   \n",
       "3  231794664        26 2023-01-01 01:31:00 2023-01-01 01:57:00           3063   \n",
       "4  231794562         8 2023-01-01 01:44:00 2023-01-01 01:52:00           3066   \n",
       "\n",
       "   start_lat   start_lon  end_station    end_lat     end_lon bike_id  \\\n",
       "0  33.988419 -118.451630         4210  33.984341 -118.471550   23373   \n",
       "1  34.039219 -118.236488         3054  34.039219 -118.236488   13870   \n",
       "2  34.034801 -118.231277         3068  34.053200 -118.250954   23942   \n",
       "3  34.048038 -118.253738         4454  34.017899 -118.291718   22873   \n",
       "4  34.063389 -118.236160         3026  34.063179 -118.245880   14790   \n",
       "\n",
       "  trip_route_category passholder_type  \n",
       "0             One Way    Monthly Pass  \n",
       "1          Round Trip         Walk-up  \n",
       "2             One Way         Walk-up  \n",
       "3             One Way         Walk-up  \n",
       "4             One Way         Walk-up  "
      ]
     },
     "execution_count": 11,
     "metadata": {},
     "output_type": "execute_result"
    }
   ],
   "source": [
    "df.head()"
   ]
  },
  {
   "cell_type": "code",
   "execution_count": 12,
   "metadata": {},
   "outputs": [
    {
     "data": {
      "text/html": [
       "<div>\n",
       "<style scoped>\n",
       "    .dataframe tbody tr th:only-of-type {\n",
       "        vertical-align: middle;\n",
       "    }\n",
       "\n",
       "    .dataframe tbody tr th {\n",
       "        vertical-align: top;\n",
       "    }\n",
       "\n",
       "    .dataframe thead th {\n",
       "        text-align: right;\n",
       "    }\n",
       "</style>\n",
       "<table border=\"1\" class=\"dataframe\">\n",
       "  <thead>\n",
       "    <tr style=\"text-align: right;\">\n",
       "      <th></th>\n",
       "      <th>trip_id</th>\n",
       "      <th>duration</th>\n",
       "      <th>start_time</th>\n",
       "      <th>end_time</th>\n",
       "      <th>start_station</th>\n",
       "      <th>start_lat</th>\n",
       "      <th>start_lon</th>\n",
       "      <th>end_station</th>\n",
       "      <th>end_lat</th>\n",
       "      <th>end_lon</th>\n",
       "      <th>bike_id</th>\n",
       "      <th>trip_route_category</th>\n",
       "      <th>passholder_type</th>\n",
       "    </tr>\n",
       "  </thead>\n",
       "  <tbody>\n",
       "    <tr>\n",
       "      <th>72224</th>\n",
       "      <td>249764243</td>\n",
       "      <td>10</td>\n",
       "      <td>2023-03-31 06:44:00</td>\n",
       "      <td>2023-03-31 06:54:00</td>\n",
       "      <td>4300</td>\n",
       "      <td>34.048870</td>\n",
       "      <td>-118.274300</td>\n",
       "      <td>3007</td>\n",
       "      <td>34.050480</td>\n",
       "      <td>-118.254593</td>\n",
       "      <td>19289</td>\n",
       "      <td>One Way</td>\n",
       "      <td>Monthly Pass</td>\n",
       "    </tr>\n",
       "    <tr>\n",
       "      <th>72225</th>\n",
       "      <td>249862961</td>\n",
       "      <td>25</td>\n",
       "      <td>2023-03-31 15:23:00</td>\n",
       "      <td>2023-03-31 15:48:00</td>\n",
       "      <td>3019</td>\n",
       "      <td>34.038609</td>\n",
       "      <td>-118.260857</td>\n",
       "      <td>3006</td>\n",
       "      <td>34.045540</td>\n",
       "      <td>-118.256668</td>\n",
       "      <td>23778</td>\n",
       "      <td>One Way</td>\n",
       "      <td>Monthly Pass</td>\n",
       "    </tr>\n",
       "    <tr>\n",
       "      <th>72226</th>\n",
       "      <td>249862674</td>\n",
       "      <td>2</td>\n",
       "      <td>2023-03-31 15:33:00</td>\n",
       "      <td>2023-03-31 15:35:00</td>\n",
       "      <td>4211</td>\n",
       "      <td>33.984928</td>\n",
       "      <td>-118.469963</td>\n",
       "      <td>4211</td>\n",
       "      <td>33.984928</td>\n",
       "      <td>-118.469963</td>\n",
       "      <td>14113</td>\n",
       "      <td>Round Trip</td>\n",
       "      <td>Walk-up</td>\n",
       "    </tr>\n",
       "    <tr>\n",
       "      <th>72227</th>\n",
       "      <td>249911940</td>\n",
       "      <td>35</td>\n",
       "      <td>2023-03-31 17:39:00</td>\n",
       "      <td>2023-03-31 18:14:00</td>\n",
       "      <td>4210</td>\n",
       "      <td>33.984341</td>\n",
       "      <td>-118.471550</td>\n",
       "      <td>4210</td>\n",
       "      <td>33.984341</td>\n",
       "      <td>-118.471550</td>\n",
       "      <td>14899</td>\n",
       "      <td>Round Trip</td>\n",
       "      <td>Walk-up</td>\n",
       "    </tr>\n",
       "    <tr>\n",
       "      <th>72228</th>\n",
       "      <td>249935270</td>\n",
       "      <td>14</td>\n",
       "      <td>2023-03-31 21:11:00</td>\n",
       "      <td>2023-03-31 21:25:00</td>\n",
       "      <td>4206</td>\n",
       "      <td>33.998341</td>\n",
       "      <td>-118.461014</td>\n",
       "      <td>4212</td>\n",
       "      <td>33.988129</td>\n",
       "      <td>-118.471741</td>\n",
       "      <td>22826</td>\n",
       "      <td>One Way</td>\n",
       "      <td>Monthly Pass</td>\n",
       "    </tr>\n",
       "  </tbody>\n",
       "</table>\n",
       "</div>"
      ],
      "text/plain": [
       "         trip_id  duration          start_time            end_time  \\\n",
       "72224  249764243        10 2023-03-31 06:44:00 2023-03-31 06:54:00   \n",
       "72225  249862961        25 2023-03-31 15:23:00 2023-03-31 15:48:00   \n",
       "72226  249862674         2 2023-03-31 15:33:00 2023-03-31 15:35:00   \n",
       "72227  249911940        35 2023-03-31 17:39:00 2023-03-31 18:14:00   \n",
       "72228  249935270        14 2023-03-31 21:11:00 2023-03-31 21:25:00   \n",
       "\n",
       "       start_station  start_lat   start_lon  end_station    end_lat  \\\n",
       "72224           4300  34.048870 -118.274300         3007  34.050480   \n",
       "72225           3019  34.038609 -118.260857         3006  34.045540   \n",
       "72226           4211  33.984928 -118.469963         4211  33.984928   \n",
       "72227           4210  33.984341 -118.471550         4210  33.984341   \n",
       "72228           4206  33.998341 -118.461014         4212  33.988129   \n",
       "\n",
       "          end_lon bike_id trip_route_category passholder_type  \n",
       "72224 -118.254593   19289             One Way    Monthly Pass  \n",
       "72225 -118.256668   23778             One Way    Monthly Pass  \n",
       "72226 -118.469963   14113          Round Trip         Walk-up  \n",
       "72227 -118.471550   14899          Round Trip         Walk-up  \n",
       "72228 -118.471741   22826             One Way    Monthly Pass  "
      ]
     },
     "execution_count": 12,
     "metadata": {},
     "output_type": "execute_result"
    }
   ],
   "source": [
    "df.tail()"
   ]
  }
 ],
 "metadata": {
  "kernelspec": {
   "display_name": "SNOWFLAKE",
   "language": "python",
   "name": "python3"
  },
  "language_info": {
   "codemirror_mode": {
    "name": "ipython",
    "version": 3
   },
   "file_extension": ".py",
   "mimetype": "text/x-python",
   "name": "python",
   "nbconvert_exporter": "python",
   "pygments_lexer": "ipython3",
   "version": "3.8.16"
  },
  "orig_nbformat": 4
 },
 "nbformat": 4,
 "nbformat_minor": 2
}
