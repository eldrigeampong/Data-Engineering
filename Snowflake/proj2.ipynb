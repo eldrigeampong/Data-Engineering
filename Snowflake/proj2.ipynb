{
 "cells": [
  {
   "attachments": {},
   "cell_type": "markdown",
   "metadata": {},
   "source": [
    "# Import Modules"
   ]
  },
  {
   "cell_type": "code",
   "execution_count": 1,
   "metadata": {},
   "outputs": [
    {
     "name": "stderr",
     "output_type": "stream",
     "text": [
      "c:\\Users\\ASANTE\\miniconda3\\envs\\SNOWFLAKE\\lib\\site-packages\\snowflake\\connector\\options.py:108: UserWarning: You have an incompatible version of 'pyarrow' installed (12.0.1), please install a version that adheres to: 'pyarrow<10.1.0,>=10.0.1; extra == \"pandas\"'\n",
      "  warn_incompatible_dep(\n",
      "Failed to import ArrowResult. No Apache Arrow result set format can be used. ImportError: DLL load failed while importing arrow_iterator: The specified procedure could not be found.\n"
     ]
    }
   ],
   "source": [
    "import os\n",
    "import pandas as pd\n",
    "from credentials import *\n",
    "import snowflake.connector"
   ]
  },
  {
   "attachments": {},
   "cell_type": "markdown",
   "metadata": {},
   "source": [
    "# Helper Functions"
   ]
  },
  {
   "cell_type": "code",
   "execution_count": 2,
   "metadata": {},
   "outputs": [],
   "source": [
    "def create_wh(name: str, size: str, initially_suspended: str, statement_timeout_in_seconds: int, comment: str):\n",
    "    \"\"\"\n",
    "    Creates a new virtual warehouse in the system\n",
    "    \n",
    "    https://docs.snowflake.com/en/sql-reference/sql/create-warehouse\n",
    "\n",
    "    Parameters\n",
    "\n",
    "    name: str\n",
    "        Identifier for the virtual warehouse; must be unique for your account.\n",
    "\n",
    "    size: str\n",
    "        Specifies the size of the virtual warehouse. The size determines the amount of compute resources in each \n",
    "        cluster in the warehouse and, therefore, the number of credits consumed while the warehouse is running.\n",
    "\n",
    "    initially_suspended: str\n",
    "        Specifies whether to automatically resume a warehouse when a SQL statement (e.g. query) is submitted to it.\n",
    "\n",
    "    statement_timeout_in_seconds: int\n",
    "        Object parameter that specifies the time, in seconds, after which a running SQL statement (query, DDL, DML, etc.) is canceled by the system.\n",
    "\n",
    "    comment: str\n",
    "        Specifies a comment for the warehouse.\n",
    "        \n",
    "    \"\"\"\n",
    "    try:\n",
    "        conn = snowflake.connector.connect(user=USERNAME, password=PASSWORD, account=ACCOUNT_ID)\n",
    "        create_warehouse_query = f\"\"\"CREATE WAREHOUSE IF NOT EXISTS {name}\n",
    "                                     WAREHOUSE_SIZE = {size}\n",
    "                                     INITIALLY_SUSPENDED = {initially_suspended}\n",
    "                                     STATEMENT_TIMEOUT_IN_SECONDS = {statement_timeout_in_seconds}\n",
    "                                     COMMENT = '{comment}'\n",
    "                                  \"\"\"\n",
    "        conn.cursor().execute(command=create_warehouse_query)\n",
    "        conn.close()\n",
    "        \n",
    "        return f\"WAREHOUSE '{name}' with size '{size}' was created successfully!\"\n",
    "    \n",
    "    except snowflake.connector.errors.ProgrammingError as e:\n",
    "        return f\"Error: {e}\"\n",
    "    \n",
    "    \n",
    "def create_db(name: str, comment: str):\n",
    "    \"\"\"\n",
    "    Creates a new database in the system\n",
    "\n",
    "    https://docs.snowflake.com/en/sql-reference/sql/create-database\n",
    "\n",
    "    Parameters\n",
    "\n",
    "    name: str\n",
    "        Specifies the identifier for the database; must be unique for your account.\n",
    "\n",
    "    comment: str\n",
    "        Specifies a comment for the database.\n",
    "\n",
    "    \"\"\"\n",
    "    try:\n",
    "        conn = snowflake.connector.connect(user=USERNAME, password=PASSWORD, account=ACCOUNT_ID)\n",
    "        create_database_query = f\"\"\"CREATE DATABASE IF NOT EXISTS {name}\n",
    "                                    COMMENT = '{comment}'\n",
    "                                 \"\"\"\n",
    "        conn.cursor().execute(command=create_database_query)\n",
    "        conn.close()\n",
    "        \n",
    "        return f\"DATABASE '{name}' was created successfully!\"\n",
    "    \n",
    "    except snowflake.connector.errors.ProgrammingError as e:\n",
    "        return f\"Error: {e}\"\n",
    "    \n",
    "    \n",
    "def create_schema(db_name: str, name: str, comment: str):\n",
    "    \"\"\"\n",
    "    Creates a new schema in the current database.\n",
    "\n",
    "    https://docs.snowflake.com/en/sql-reference/sql/create-schema\n",
    "\n",
    "    Parameters\n",
    "\n",
    "    db_name: str\n",
    "        Specifies database for the schema\n",
    "\n",
    "    name: str\n",
    "        Specifies the identifier for the schema; must be unique for the database in which the schema is created.\n",
    "\n",
    "    comment: str\n",
    "        Specifies a comment for the schema.\n",
    "\n",
    "    \"\"\"\n",
    "    try:\n",
    "        conn = snowflake.connector.connect(user=USERNAME, password=PASSWORD, account=ACCOUNT_ID, database=db_name)\n",
    "        create_schema_query = f\"\"\"CREATE SCHEMA IF NOT EXISTS {name}\n",
    "                                  COMMENT = '{comment}'\n",
    "                               \"\"\"\n",
    "        conn.cursor().execute(command=create_schema_query)\n",
    "        conn.close()\n",
    "\n",
    "        return f\"SCHEMA '{name}' was created successfully!\"\n",
    "    \n",
    "    except snowflake.connector.errors.ProgrammingError as e:\n",
    "        return f\"Error: {e}\"\n",
    "    \n",
    "\n",
    "def create_table(db_name: str, schema_name: str, name: str, comment: str):\n",
    "    \"\"\"\n",
    "    Creates a new table in the current/specified schema or replaces an existing table.\n",
    "\n",
    "    https://docs.snowflake.com/en/sql-reference/sql/create-table\n",
    "\n",
    "    Parameters\n",
    "\n",
    "    db_name: str\n",
    "        Specifies database for the schema\n",
    "\n",
    "    schema_name: str\n",
    "        Specifies the identifier for the schema; must be unique for the database in which the schema is created.\n",
    "\n",
    "    name: str\n",
    "        Specifies the identifier (i.e. name) for the table; must be unique for the schema in which the table is created.\n",
    "\n",
    "    comment: str\n",
    "        Specifies a comment for the schema.\n",
    "\n",
    "    \"\"\"\n",
    "    try:\n",
    "        conn = snowflake.connector.connect(user=USERNAME, password=PASSWORD, account=ACCOUNT_ID, database=db_name, schema=schema_name)\n",
    "        create_table_query = f\"\"\"CREATE TABLE IF NOT EXISTS {name} (\n",
    "                                                                     trip_id VARCHAR,\n",
    "                                                                     duration VARCHAR,\n",
    "                                                                     start_time VARCHAR,\n",
    "                                                                     end_time VARCHAR,\n",
    "                                                                     start_station VARCHAR,\n",
    "                                                                     start_lat VARCHAR,\n",
    "                                                                     start_lon VARCHAR,\n",
    "                                                                     end_station VARCHAR,\n",
    "                                                                     end_lat VARCHAR,\n",
    "                                                                     end_lon VARCHAR,\n",
    "                                                                     bike_id VARCHAR,\n",
    "                                                                     plan_duration VARCHAR,\n",
    "                                                                     trip_route_category STRING,\n",
    "                                                                     passholder_type STRING,\n",
    "                                                                     bike_type STRING\n",
    "                                                                    )\n",
    "                         \n",
    "                                    COMMENT = '{comment}'\n",
    "                                \"\"\"\n",
    "        conn.cursor().execute(command=create_table_query)\n",
    "        conn.close()\n",
    "\n",
    "        return f\"TABLE '{name}' was created successfully!\"\n",
    "    \n",
    "    except snowflake.connector.errors.ProgrammingError as e:\n",
    "        return f\"Error: {e}\"\n",
    "    \n",
    "    \n",
    "def create_stage(db_name: str, schema_name: str, name: str, comment: str):\n",
    "    \"\"\"\n",
    "    Creates a new named internal or external stage to use for loading data from files into Snowflake tables and unloading data from tables into files\n",
    "\n",
    "    https://docs.snowflake.com/en/sql-reference/sql/create-stage\n",
    "\n",
    "    Parameters\n",
    "\n",
    "    db_name: str\n",
    "        Specifies database for the schema\n",
    "\n",
    "    schema_name: str\n",
    "        Specifies the identifier for the schema; must be unique for the database in which the schema is created.\n",
    "\n",
    "    name: str\n",
    "        Specifies the identifier for the stage; must be unique for the schema in which the stage is created.\n",
    "\n",
    "    comment: str\n",
    "        Specifies a comment for the stage.\n",
    "\n",
    "    \"\"\"\n",
    "    try:\n",
    "        conn = snowflake.connector.connect(user=USERNAME, password=PASSWORD, account=ACCOUNT_ID, database=db_name, schema=schema_name)\n",
    "        create_stage_query = f\"\"\"CREATE STAGE IF NOT EXISTS {name}\n",
    "                                 DIRECTORY = (ENABLE = TRUE)\n",
    "                                 FILE_FORMAT = (TYPE = 'CSV')\n",
    "                                 ENCRYPTION = (TYPE = 'SNOWFLAKE_SSE')\n",
    "                                 COPY_OPTIONS = (ON_ERROR='abort_statement')\n",
    "                                 COMMENT = '{comment}'\n",
    "                              \"\"\"\n",
    "        conn.cursor().execute(create_stage_query)\n",
    "        conn.close()\n",
    "\n",
    "        return f\"STAGE '{name}' was created successfully!\"\n",
    "    \n",
    "    except snowflake.connector.errors.ProgrammingError as e:\n",
    "        return f\"Error: {e}\""
   ]
  },
  {
   "attachments": {},
   "cell_type": "markdown",
   "metadata": {},
   "source": [
    "# Create Data Warehouse"
   ]
  },
  {
   "cell_type": "code",
   "execution_count": 3,
   "metadata": {},
   "outputs": [
    {
     "data": {
      "text/plain": [
       "\"WAREHOUSE 'MY_DATA_WH' with size 'XSMALL' was created successfully!\""
      ]
     },
     "execution_count": 3,
     "metadata": {},
     "output_type": "execute_result"
    }
   ],
   "source": [
    "warehouse_name = 'MY_DATA_WH'\n",
    "warehouse_size = 'XSMALL'\n",
    "initially_suspended = 'TRUE'\n",
    "statement_timeout = 300\n",
    "warehouse_comment = 'MY_DATA_WH'\n",
    "\n",
    "create_wh(warehouse_name, warehouse_size, initially_suspended, statement_timeout, warehouse_comment)"
   ]
  },
  {
   "attachments": {},
   "cell_type": "markdown",
   "metadata": {},
   "source": [
    "# Create Database"
   ]
  },
  {
   "cell_type": "code",
   "execution_count": 4,
   "metadata": {},
   "outputs": [
    {
     "data": {
      "text/plain": [
       "\"DATABASE 'Metro_Bike_Share' was created successfully!\""
      ]
     },
     "execution_count": 4,
     "metadata": {},
     "output_type": "execute_result"
    }
   ],
   "source": [
    "database_name = 'Metro_Bike_Share'\n",
    "database_comment = 'Metro Bike Share trip data'\n",
    "\n",
    "create_db(database_name, database_comment)"
   ]
  },
  {
   "attachments": {},
   "cell_type": "markdown",
   "metadata": {},
   "source": [
    "# Create Schema"
   ]
  },
  {
   "cell_type": "code",
   "execution_count": 5,
   "metadata": {},
   "outputs": [
    {
     "data": {
      "text/plain": [
       "\"SCHEMA 'My_Bike_Share_Schema' was created successfully!\""
      ]
     },
     "execution_count": 5,
     "metadata": {},
     "output_type": "execute_result"
    }
   ],
   "source": [
    "schema_name = 'My_Bike_Share_Schema'\n",
    "schema_comment = 'Metro Bike Share trip data'\n",
    "\n",
    "create_schema(database_name, schema_name, schema_comment)"
   ]
  },
  {
   "attachments": {},
   "cell_type": "markdown",
   "metadata": {},
   "source": [
    "# Create Table"
   ]
  },
  {
   "cell_type": "code",
   "execution_count": 6,
   "metadata": {},
   "outputs": [
    {
     "data": {
      "text/plain": [
       "\"TABLE 'Bike_Share' was created successfully!\""
      ]
     },
     "execution_count": 6,
     "metadata": {},
     "output_type": "execute_result"
    }
   ],
   "source": [
    "table_name = \"Bike_Share\"\n",
    "tbl_comment = \"Metro Bike Share trip data\"\n",
    "\n",
    "create_table(database_name, schema_name, table_name, tbl_comment)"
   ]
  },
  {
   "attachments": {},
   "cell_type": "markdown",
   "metadata": {},
   "source": [
    "# Create Stage"
   ]
  },
  {
   "cell_type": "code",
   "execution_count": 7,
   "metadata": {},
   "outputs": [
    {
     "data": {
      "text/plain": [
       "\"STAGE 'la_metro' was created successfully!\""
      ]
     },
     "execution_count": 7,
     "metadata": {},
     "output_type": "execute_result"
    }
   ],
   "source": [
    "internal_stage_name = \"la_metro\"\n",
    "stage_comment = \"la metro bikeshare stage\"\n",
    "\n",
    "create_stage(database_name, schema_name, internal_stage_name, stage_comment)"
   ]
  },
  {
   "attachments": {},
   "cell_type": "markdown",
   "metadata": {},
   "source": [
    "# Upload Files To Stage"
   ]
  },
  {
   "cell_type": "code",
   "execution_count": 8,
   "metadata": {},
   "outputs": [],
   "source": [
    "def upload_file_to_stage(db_name: str, schema_name: str, full_file_path: str, stage_name: str, filename: str):\n",
    "    \"\"\"\n",
    "    Uploads (i.e. stages) data files from a local directory/folder on a client machine to one of the following Snowflake stages:\n",
    "    Named internal stage, Internal stage for a specified table or Internal stage for the current user.\n",
    "\n",
    "    https://docs.snowflake.com/en/sql-reference/sql/put\n",
    "\n",
    "    Parameters\n",
    "\n",
    "    db_name: str\n",
    "        Specifies database for the schema\n",
    "\n",
    "    schema_name: str\n",
    "        Specifies the identifier for the schema; must be unique for the database in which the schema is created.\n",
    "\n",
    "    full_file_path: str\n",
    "        full path to the file\n",
    "\n",
    "    stage_name: str\n",
    "        Specifies the identifier for the stage; must be unique for the schema in which the stage is created.\n",
    "\n",
    "    filename: str\n",
    "        name of the file(s) to upload\n",
    "\n",
    "    \"\"\"\n",
    "    try:\n",
    "        conn = snowflake.connector.connect(user=USERNAME, password=PASSWORD, account=ACCOUNT_ID, database=db_name, schema=schema_name)\n",
    "        upload_file_query = f\"\"\"PUT file://{full_file_path} @{stage_name}\"\"\"\n",
    "\n",
    "        conn.cursor().execute(upload_file_query)\n",
    "        conn.close()\n",
    "\n",
    "        return f\"'{filename}' was successfully uploaded!\"\n",
    "    \n",
    "    except snowflake.connector.errors.ProgrammingError as e:\n",
    "        return f\"Error: {e}\""
   ]
  },
  {
   "cell_type": "code",
   "execution_count": 9,
   "metadata": {},
   "outputs": [
    {
     "data": {
      "text/plain": [
       "\"'metro-trips-2023-q1.csv' was successfully uploaded!\""
      ]
     },
     "execution_count": 9,
     "metadata": {},
     "output_type": "execute_result"
    }
   ],
   "source": [
    "file_to_upload = 'metro-trips-2023-q1.csv'\n",
    "stage_name = 'la_metro'\n",
    "full_file_path = os.path.join(os.getcwd(), 'Datasets', 'MetroBikeShare', 'metro-trips-2023-q1.csv')\n",
    "\n",
    "upload_file_to_stage(database_name, schema_name, full_file_path, stage_name, f'{file_to_upload}')"
   ]
  }
 ],
 "metadata": {
  "kernelspec": {
   "display_name": "SNOWFLAKE",
   "language": "python",
   "name": "python3"
  },
  "language_info": {
   "codemirror_mode": {
    "name": "ipython",
    "version": 3
   },
   "file_extension": ".py",
   "mimetype": "text/x-python",
   "name": "python",
   "nbconvert_exporter": "python",
   "pygments_lexer": "ipython3",
   "version": "3.8.16"
  },
  "orig_nbformat": 4
 },
 "nbformat": 4,
 "nbformat_minor": 2
}
