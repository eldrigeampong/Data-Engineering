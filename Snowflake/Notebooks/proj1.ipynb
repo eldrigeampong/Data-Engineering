{
 "cells": [
  {
   "cell_type": "markdown",
   "metadata": {},
   "source": [
    "# Import Modules"
   ]
  },
  {
   "cell_type": "code",
   "execution_count": 1,
   "metadata": {},
   "outputs": [],
   "source": [
    "import warnings\n",
    "import pandas as pd\n",
    "from credentials import *\n",
    "from Queries.sf_sample_data import *\n",
    "from snowflake.sqlalchemy import URL\n",
    "from sqlalchemy import create_engine"
   ]
  },
  {
   "cell_type": "markdown",
   "metadata": {},
   "source": [
    "# Options and Settings"
   ]
  },
  {
   "cell_type": "code",
   "execution_count": 2,
   "metadata": {},
   "outputs": [],
   "source": [
    "%matplotlib inline\n",
    "warnings.simplefilter(\"ignore\")"
   ]
  },
  {
   "cell_type": "markdown",
   "metadata": {},
   "source": [
    "# Helper Functions"
   ]
  },
  {
   "cell_type": "code",
   "execution_count": 3,
   "metadata": {},
   "outputs": [],
   "source": [
    "def fetch_data(sql_query: str, **db_parameters) -> pd.DataFrame:\n",
    "    \"\"\"\n",
    "    Fetch data from SnowFlake Data Warehouse\n",
    "\n",
    "    https://github.com/snowflakedb/snowflake-sqlalchemy#escaping-special-characters-such-as---signs-in-passwords\n",
    "\n",
    "    Parameters\n",
    "    ----------\n",
    "\n",
    "    sql_query: str\n",
    "        sql statement to execute\n",
    "\n",
    "    db_parameters: dict\n",
    "        database parameters to pass\n",
    "\n",
    "    Returns:\n",
    "        Pandas dataframe\n",
    "\n",
    "    \"\"\"\n",
    "    try:\n",
    "        engine = create_engine(URL(**db_parameters))\n",
    "        results = engine.connect().execute(statement=sql_query).fetchall()\n",
    "        return pd.DataFrame(results)\n",
    "    \n",
    "    except Exception as err:\n",
    "        return f\"An error occurred: {err}\"\n",
    "    \n",
    "    finally:\n",
    "        engine.connect().close()\n",
    "        engine.dispose()"
   ]
  },
  {
   "cell_type": "markdown",
   "metadata": {},
   "source": [
    "# Fetch Data"
   ]
  },
  {
   "cell_type": "code",
   "execution_count": 4,
   "metadata": {},
   "outputs": [],
   "source": [
    "db_name = \"SNOWFLAKE_SAMPLE_DATA\"\n",
    "schema_name = \"TPCH_SF1\"\n",
    "wh_name = \"COMPUTE_WH\"\n",
    "\n",
    "df = fetch_data(\n",
    "                 account = SF_ACCOUNT, \n",
    "                 user = SF_USERNAME, \n",
    "                 password = SF_PASSWORD, \n",
    "                 database = db_name, \n",
    "                 schema = schema_name, \n",
    "                 warehouse = wh_name, \n",
    "                 role=SF_ROLE, \n",
    "                 sql_query=query1\n",
    "               )"
   ]
  },
  {
   "cell_type": "markdown",
   "metadata": {},
   "source": [
    "# View DataFrame"
   ]
  },
  {
   "cell_type": "code",
   "execution_count": 5,
   "metadata": {},
   "outputs": [
    {
     "data": {
      "text/html": [
       "<div>\n",
       "<style scoped>\n",
       "    .dataframe tbody tr th:only-of-type {\n",
       "        vertical-align: middle;\n",
       "    }\n",
       "\n",
       "    .dataframe tbody tr th {\n",
       "        vertical-align: top;\n",
       "    }\n",
       "\n",
       "    .dataframe thead th {\n",
       "        text-align: right;\n",
       "    }\n",
       "</style>\n",
       "<table border=\"1\" class=\"dataframe\">\n",
       "  <thead>\n",
       "    <tr style=\"text-align: right;\">\n",
       "      <th></th>\n",
       "      <th>customer_key</th>\n",
       "      <th>mktsegment</th>\n",
       "      <th>orderkey</th>\n",
       "      <th>orderdate</th>\n",
       "      <th>orderstatus</th>\n",
       "      <th>orderpriority</th>\n",
       "      <th>totalprice</th>\n",
       "    </tr>\n",
       "  </thead>\n",
       "  <tbody>\n",
       "    <tr>\n",
       "      <th>0</th>\n",
       "      <td>1</td>\n",
       "      <td>BUILDING</td>\n",
       "      <td>5133509.0</td>\n",
       "      <td>1996-07-01</td>\n",
       "      <td>O</td>\n",
       "      <td>1-URGENT</td>\n",
       "      <td>174645.94</td>\n",
       "    </tr>\n",
       "    <tr>\n",
       "      <th>1</th>\n",
       "      <td>1</td>\n",
       "      <td>BUILDING</td>\n",
       "      <td>579908.0</td>\n",
       "      <td>1996-12-09</td>\n",
       "      <td>O</td>\n",
       "      <td>5-LOW</td>\n",
       "      <td>54048.26</td>\n",
       "    </tr>\n",
       "    <tr>\n",
       "      <th>2</th>\n",
       "      <td>1</td>\n",
       "      <td>BUILDING</td>\n",
       "      <td>3868359.0</td>\n",
       "      <td>1992-08-22</td>\n",
       "      <td>F</td>\n",
       "      <td>5-LOW</td>\n",
       "      <td>123076.84</td>\n",
       "    </tr>\n",
       "    <tr>\n",
       "      <th>3</th>\n",
       "      <td>1</td>\n",
       "      <td>BUILDING</td>\n",
       "      <td>4808192.0</td>\n",
       "      <td>1996-06-29</td>\n",
       "      <td>O</td>\n",
       "      <td>2-HIGH</td>\n",
       "      <td>65478.05</td>\n",
       "    </tr>\n",
       "    <tr>\n",
       "      <th>4</th>\n",
       "      <td>1</td>\n",
       "      <td>BUILDING</td>\n",
       "      <td>4273923.0</td>\n",
       "      <td>1997-03-23</td>\n",
       "      <td>O</td>\n",
       "      <td>3-MEDIUM</td>\n",
       "      <td>95911.01</td>\n",
       "    </tr>\n",
       "  </tbody>\n",
       "</table>\n",
       "</div>"
      ],
      "text/plain": [
       "   customer_key mktsegment   orderkey   orderdate orderstatus orderpriority  \\\n",
       "0             1   BUILDING  5133509.0  1996-07-01           O      1-URGENT   \n",
       "1             1   BUILDING   579908.0  1996-12-09           O         5-LOW   \n",
       "2             1   BUILDING  3868359.0  1992-08-22           F         5-LOW   \n",
       "3             1   BUILDING  4808192.0  1996-06-29           O        2-HIGH   \n",
       "4             1   BUILDING  4273923.0  1997-03-23           O      3-MEDIUM   \n",
       "\n",
       "   totalprice  \n",
       "0   174645.94  \n",
       "1    54048.26  \n",
       "2   123076.84  \n",
       "3    65478.05  \n",
       "4    95911.01  "
      ]
     },
     "execution_count": 5,
     "metadata": {},
     "output_type": "execute_result"
    }
   ],
   "source": [
    "df.head()"
   ]
  },
  {
   "cell_type": "code",
   "execution_count": 6,
   "metadata": {},
   "outputs": [
    {
     "data": {
      "text/html": [
       "<div>\n",
       "<style scoped>\n",
       "    .dataframe tbody tr th:only-of-type {\n",
       "        vertical-align: middle;\n",
       "    }\n",
       "\n",
       "    .dataframe tbody tr th {\n",
       "        vertical-align: top;\n",
       "    }\n",
       "\n",
       "    .dataframe thead th {\n",
       "        text-align: right;\n",
       "    }\n",
       "</style>\n",
       "<table border=\"1\" class=\"dataframe\">\n",
       "  <thead>\n",
       "    <tr style=\"text-align: right;\">\n",
       "      <th></th>\n",
       "      <th>customer_key</th>\n",
       "      <th>mktsegment</th>\n",
       "      <th>orderkey</th>\n",
       "      <th>orderdate</th>\n",
       "      <th>orderstatus</th>\n",
       "      <th>orderpriority</th>\n",
       "      <th>totalprice</th>\n",
       "    </tr>\n",
       "  </thead>\n",
       "  <tbody>\n",
       "    <tr>\n",
       "      <th>1549999</th>\n",
       "      <td>149999</td>\n",
       "      <td>AUTOMOBILE</td>\n",
       "      <td>2009601.0</td>\n",
       "      <td>1995-11-16</td>\n",
       "      <td>O</td>\n",
       "      <td>3-MEDIUM</td>\n",
       "      <td>329578.68</td>\n",
       "    </tr>\n",
       "    <tr>\n",
       "      <th>1550000</th>\n",
       "      <td>149999</td>\n",
       "      <td>AUTOMOBILE</td>\n",
       "      <td>94817.0</td>\n",
       "      <td>1992-08-02</td>\n",
       "      <td>F</td>\n",
       "      <td>4-NOT SPECIFIED</td>\n",
       "      <td>211382.23</td>\n",
       "    </tr>\n",
       "    <tr>\n",
       "      <th>1550001</th>\n",
       "      <td>149999</td>\n",
       "      <td>AUTOMOBILE</td>\n",
       "      <td>5323939.0</td>\n",
       "      <td>1994-03-05</td>\n",
       "      <td>F</td>\n",
       "      <td>2-HIGH</td>\n",
       "      <td>212230.94</td>\n",
       "    </tr>\n",
       "    <tr>\n",
       "      <th>1550002</th>\n",
       "      <td>149999</td>\n",
       "      <td>AUTOMOBILE</td>\n",
       "      <td>3775524.0</td>\n",
       "      <td>1995-06-09</td>\n",
       "      <td>O</td>\n",
       "      <td>2-HIGH</td>\n",
       "      <td>11414.72</td>\n",
       "    </tr>\n",
       "    <tr>\n",
       "      <th>1550003</th>\n",
       "      <td>150000</td>\n",
       "      <td>AUTOMOBILE</td>\n",
       "      <td>NaN</td>\n",
       "      <td>None</td>\n",
       "      <td>None</td>\n",
       "      <td>None</td>\n",
       "      <td>NaN</td>\n",
       "    </tr>\n",
       "  </tbody>\n",
       "</table>\n",
       "</div>"
      ],
      "text/plain": [
       "         customer_key  mktsegment   orderkey   orderdate orderstatus  \\\n",
       "1549999        149999  AUTOMOBILE  2009601.0  1995-11-16           O   \n",
       "1550000        149999  AUTOMOBILE    94817.0  1992-08-02           F   \n",
       "1550001        149999  AUTOMOBILE  5323939.0  1994-03-05           F   \n",
       "1550002        149999  AUTOMOBILE  3775524.0  1995-06-09           O   \n",
       "1550003        150000  AUTOMOBILE        NaN        None        None   \n",
       "\n",
       "           orderpriority  totalprice  \n",
       "1549999         3-MEDIUM   329578.68  \n",
       "1550000  4-NOT SPECIFIED   211382.23  \n",
       "1550001           2-HIGH   212230.94  \n",
       "1550002           2-HIGH    11414.72  \n",
       "1550003             None         NaN  "
      ]
     },
     "execution_count": 6,
     "metadata": {},
     "output_type": "execute_result"
    }
   ],
   "source": [
    "df.tail()"
   ]
  }
 ],
 "metadata": {
  "kernelspec": {
   "display_name": "SNOWFLAKE",
   "language": "python",
   "name": "python3"
  },
  "language_info": {
   "codemirror_mode": {
    "name": "ipython",
    "version": 3
   },
   "file_extension": ".py",
   "mimetype": "text/x-python",
   "name": "python",
   "nbconvert_exporter": "python",
   "pygments_lexer": "ipython3",
   "version": "3.8.17"
  },
  "orig_nbformat": 4
 },
 "nbformat": 4,
 "nbformat_minor": 2
}
