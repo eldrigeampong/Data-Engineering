{
 "cells": [
  {
   "cell_type": "markdown",
   "metadata": {},
   "source": [
    "# Analyzing TLC Trip Record Data Using Snowflake"
   ]
  },
  {
   "cell_type": "markdown",
   "metadata": {},
   "source": [
    "Project Goal: The goal of this project is to analyze New York Yellow Taxi data using Snowflake "
   ]
  },
  {
   "cell_type": "markdown",
   "metadata": {},
   "source": [
    "# Import Modules"
   ]
  },
  {
   "cell_type": "code",
   "execution_count": 1,
   "metadata": {},
   "outputs": [],
   "source": [
    "import warnings\n",
    "from credentials import *\n",
    "from snowflake import snowpark"
   ]
  },
  {
   "cell_type": "markdown",
   "metadata": {},
   "source": [
    "# Options and Settings"
   ]
  },
  {
   "cell_type": "code",
   "execution_count": 2,
   "metadata": {},
   "outputs": [],
   "source": [
    "warnings.simplefilter(\"ignore\")"
   ]
  },
  {
   "cell_type": "markdown",
   "metadata": {},
   "source": [
    "# Create a Session"
   ]
  },
  {
   "cell_type": "code",
   "execution_count": 3,
   "metadata": {},
   "outputs": [],
   "source": [
    "connection_parameters = {\n",
    "                          \"account\": SF_ACCOUNT,\n",
    "                          \"user\": SF_USERNAME,\n",
    "                          \"password\": SF_PASSWORD,\n",
    "                          \"role\": SF_ROLE, \n",
    "                          \"warehouse\": \"TLC_WH\", \n",
    "                          \"database\": \"NYC_TLC\", \n",
    "                          \"schema\": \"YELLOW_TAXI\"\n",
    "                        }\n",
    "\n",
    "sf_session = snowpark.Session.builder.configs(connection_parameters).create()"
   ]
  },
  {
   "cell_type": "markdown",
   "metadata": {},
   "source": [
    "# Query Tables"
   ]
  },
  {
   "cell_type": "markdown",
   "metadata": {},
   "source": [
    "Explore the date and time when the meter was engaged"
   ]
  },
  {
   "cell_type": "code",
   "execution_count": 4,
   "metadata": {},
   "outputs": [
    {
     "name": "stdout",
     "output_type": "stream",
     "text": [
      "-----------------------------------\n",
      "|\"DAY_NAME\"  |\"TOTAL_PASSENGERS\"  |\n",
      "-----------------------------------\n",
      "|Sat         |306689              |\n",
      "|Fri         |298584              |\n",
      "|Thu         |368849              |\n",
      "|Wed         |287340              |\n",
      "|Tue         |281836              |\n",
      "|Sun         |274499              |\n",
      "|Mon         |262245              |\n",
      "-----------------------------------\n",
      "\n"
     ]
    }
   ],
   "source": [
    "sf_session.sql(\"\"\"\n",
    "               WITH \n",
    "                   daily_passenger_count as (\n",
    "                                              SELECT \n",
    "                                                    DISTINCT \n",
    "                                                            TO_CHAR(dt.tpep_pickup_datetime::datetime, 'Dy') AS day_name,\n",
    "                                                            pc.passenger_count,\n",
    "                                                            dt.tpep_pickup_datetime\n",
    "                                              FROM FACT_TABLE ft\n",
    "                                              LEFT JOIN PASSENGER_COUNT_DIM pc USING (passenger_count_id)\n",
    "                                              LEFT JOIN DATETIME_DIM dt ON ft.datetime_id = dt.datetime_id\n",
    "                                              WHERE dt.tpep_pickup_datetime BETWEEN '2023-06-01' AND '2023-06-30'\n",
    "                                            )\n",
    "               SELECT\n",
    "                     DISTINCT\n",
    "                             day_name,\n",
    "                             COUNT(passenger_count) AS total_passengers\n",
    "               FROM daily_passenger_count \n",
    "               GROUP BY 1\n",
    "               ORDER BY  total_passengers DESC   \n",
    "\n",
    "               \"\"\"\n",
    "              ).show()"
   ]
  },
  {
   "cell_type": "code",
   "execution_count": 5,
   "metadata": {},
   "outputs": [
    {
     "name": "stdout",
     "output_type": "stream",
     "text": [
      "--------------------------------------\n",
      "|\"PICKUP_HOUR\"  |\"TOTAL_PASSENGERS\"  |\n",
      "--------------------------------------\n",
      "|10             |97843               |\n",
      "|23             |96483               |\n",
      "|9              |89603               |\n",
      "|8              |79894               |\n",
      "|0              |70818               |\n",
      "|7              |60348               |\n",
      "|18             |130580              |\n",
      "|17             |125152              |\n",
      "|19             |122026              |\n",
      "|15             |120857              |\n",
      "--------------------------------------\n",
      "\n"
     ]
    }
   ],
   "source": [
    "sf_session.sql(\"\"\"\n",
    "               WITH \n",
    "                   hourly_passenger_count as (\n",
    "                                              SELECT \n",
    "                                                    DISTINCT \n",
    "                                                            EXTRACT(HOUR FROM dt.tpep_pickup_datetime) as pickup_hour,\n",
    "                                                            pc.passenger_count,\n",
    "                                                            dt.tpep_pickup_datetime\n",
    "                                              FROM FACT_TABLE ft\n",
    "                                              LEFT JOIN PASSENGER_COUNT_DIM pc USING (passenger_count_id)\n",
    "                                              LEFT JOIN DATETIME_DIM dt ON ft.datetime_id = dt.datetime_id\n",
    "                                              WHERE dt.tpep_pickup_datetime BETWEEN '2023-06-01' AND '2023-06-30'\n",
    "                                            )\n",
    "               SELECT \n",
    "                     DISTINCT \n",
    "                             pickup_hour,\n",
    "                             COUNT(passenger_count) AS total_passengers\n",
    "               FROM hourly_passenger_count\n",
    "               GROUP BY 1\n",
    "               ORDER BY 2 DESC \n",
    "\n",
    "               \"\"\"\n",
    "              ).show()"
   ]
  },
  {
   "cell_type": "markdown",
   "metadata": {},
   "source": [
    "Calculate Daily Trip Distance By Borough"
   ]
  },
  {
   "cell_type": "code",
   "execution_count": 6,
   "metadata": {},
   "outputs": [],
   "source": [
    "def calculate_trip_distance(borough: str, order: str = \"DESC\") -> snowpark.DataFrame:\n",
    "  \"\"\"\n",
    "  Calculates daily trip distance by Borough\n",
    "\n",
    "  Parameters\n",
    "  ----------\n",
    "  borough: str\n",
    "      administrative division to use\n",
    "\n",
    "  order: str, defaults to descending\n",
    "      condition for sorting results\n",
    "\n",
    "  Returns:\n",
    "      Snowflake dataframe\n",
    "\n",
    "  \"\"\"\n",
    "  connection_parameters = {\n",
    "                             \"account\": SF_ACCOUNT,\n",
    "                             \"user\": SF_USERNAME,\n",
    "                             \"password\": SF_PASSWORD,\n",
    "                             \"role\": SF_ROLE, \n",
    "                             \"warehouse\": \"TLC_WH\", \n",
    "                             \"database\": \"NYC_TLC\", \n",
    "                             \"schema\": \"YELLOW_TAXI\"\n",
    "                           }\n",
    "  \n",
    "  session = snowpark.Session.builder.configs(connection_parameters).create()\n",
    "\n",
    "  sql_query = f\"\"\"\n",
    "               SELECT \n",
    "                     DISTINCT \n",
    "                             pl.borough,\n",
    "                             EXTRACT(DAY from dt.tpep_pickup_datetime) as day,\n",
    "                             ROUND(SUM(td.trip_distance)) as total_trip_distance              \n",
    "               FROM fact_table ft\n",
    "               LEFT JOIN trip_distance_dim td USING (trip_distance_id)\n",
    "               LEFT JOIN pickup_location_dim pl ON ft.pickup_location_id = pl.pickup_location_id\n",
    "               LEFT JOIN datetime_dim dt ON ft.datetime_id = dt.datetime_id\n",
    "               WHERE pl.borough = '{borough}'\n",
    "               GROUP BY 1, 2\n",
    "               ORDER BY 3 {order}\n",
    "\n",
    "              \"\"\"\n",
    "  try:\n",
    "      session.sql(sql_query).show()\n",
    "  \n",
    "  except Exception as err:\n",
    "     print(f\"An error occurred: {err}\")\n",
    "\n",
    "  finally:\n",
    "     session.close()"
   ]
  },
  {
   "cell_type": "code",
   "execution_count": 7,
   "metadata": {},
   "outputs": [
    {
     "name": "stdout",
     "output_type": "stream",
     "text": [
      "---------------------------------------------\n",
      "|\"BOROUGH\"  |\"DAY\"  |\"TOTAL_TRIP_DISTANCE\"  |\n",
      "---------------------------------------------\n",
      "|Manhattan  |29     |698856.0               |\n",
      "|Manhattan  |21     |513075.0               |\n",
      "|Manhattan  |1      |419528.0               |\n",
      "|Manhattan  |22     |402487.0               |\n",
      "|Manhattan  |2      |389196.0               |\n",
      "|Manhattan  |8      |370374.0               |\n",
      "|Manhattan  |23     |363376.0               |\n",
      "|Manhattan  |10     |342820.0               |\n",
      "|Manhattan  |27     |302357.0               |\n",
      "|Manhattan  |24     |299100.0               |\n",
      "---------------------------------------------\n",
      "\n"
     ]
    }
   ],
   "source": [
    "calculate_trip_distance(borough=\"Manhattan\", order=\"DESC\")"
   ]
  },
  {
   "cell_type": "code",
   "execution_count": 8,
   "metadata": {},
   "outputs": [
    {
     "name": "stdout",
     "output_type": "stream",
     "text": [
      "---------------------------------------------\n",
      "|\"BOROUGH\"  |\"DAY\"  |\"TOTAL_TRIP_DISTANCE\"  |\n",
      "---------------------------------------------\n",
      "|Queens     |8      |135213.0               |\n",
      "|Queens     |30     |128518.0               |\n",
      "|Queens     |24     |122335.0               |\n",
      "|Queens     |3      |119970.0               |\n",
      "|Queens     |10     |108927.0               |\n",
      "|Queens     |17     |107865.0               |\n",
      "|Queens     |31     |105.0                  |\n",
      "|Queens     |26     |185308.0               |\n",
      "|Queens     |11     |169154.0               |\n",
      "|Queens     |19     |169044.0               |\n",
      "---------------------------------------------\n",
      "\n"
     ]
    }
   ],
   "source": [
    "calculate_trip_distance(borough=\"Queens\", order=\"DESC\")"
   ]
  },
  {
   "cell_type": "code",
   "execution_count": 9,
   "metadata": {},
   "outputs": [
    {
     "name": "stdout",
     "output_type": "stream",
     "text": [
      "---------------------------------------------\n",
      "|\"BOROUGH\"  |\"DAY\"  |\"TOTAL_TRIP_DISTANCE\"  |\n",
      "---------------------------------------------\n",
      "|Brooklyn   |26     |54913.0                |\n",
      "|Brooklyn   |12     |30642.0                |\n",
      "|Brooklyn   |27     |29051.0                |\n",
      "|Brooklyn   |19     |20642.0                |\n",
      "|Brooklyn   |23     |13644.0                |\n",
      "|Brooklyn   |11     |6659.0                 |\n",
      "|Brooklyn   |25     |6311.0                 |\n",
      "|Brooklyn   |18     |6234.0                 |\n",
      "|Brooklyn   |4      |5821.0                 |\n",
      "|Brooklyn   |10     |5417.0                 |\n",
      "---------------------------------------------\n",
      "\n"
     ]
    }
   ],
   "source": [
    "calculate_trip_distance(borough=\"Brooklyn\", order=\"DESC\")"
   ]
  },
  {
   "cell_type": "markdown",
   "metadata": {},
   "source": [
    "# Close Current Session"
   ]
  },
  {
   "cell_type": "code",
   "execution_count": 10,
   "metadata": {},
   "outputs": [],
   "source": [
    "sf_session.close()"
   ]
  }
 ],
 "metadata": {
  "kernelspec": {
   "display_name": "base",
   "language": "python",
   "name": "python3"
  },
  "language_info": {
   "codemirror_mode": {
    "name": "ipython",
    "version": 3
   },
   "file_extension": ".py",
   "mimetype": "text/x-python",
   "name": "python",
   "nbconvert_exporter": "python",
   "pygments_lexer": "ipython3",
   "version": "3.8.17"
  },
  "orig_nbformat": 4
 },
 "nbformat": 4,
 "nbformat_minor": 2
}
