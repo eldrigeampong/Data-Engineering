{
 "cells": [
  {
   "cell_type": "markdown",
   "metadata": {},
   "source": [
    "# Analyzing TLC Trip Record Data Using Snowflake"
   ]
  },
  {
   "cell_type": "markdown",
   "metadata": {},
   "source": [
    "Project Goal: The goal of this project is to analyze New York Yellow Taxi data using Snowflake "
   ]
  },
  {
   "cell_type": "markdown",
   "metadata": {},
   "source": [
    "# Import Modules"
   ]
  },
  {
   "cell_type": "code",
   "execution_count": 1,
   "metadata": {},
   "outputs": [],
   "source": [
    "import warnings\n",
    "from credentials import *\n",
    "from snowflake import snowpark"
   ]
  },
  {
   "cell_type": "markdown",
   "metadata": {},
   "source": [
    "# Options and Settings"
   ]
  },
  {
   "cell_type": "code",
   "execution_count": 2,
   "metadata": {},
   "outputs": [],
   "source": [
    "warnings.simplefilter(\"ignore\")"
   ]
  },
  {
   "cell_type": "markdown",
   "metadata": {},
   "source": [
    "# Create a Session"
   ]
  },
  {
   "cell_type": "code",
   "execution_count": 3,
   "metadata": {},
   "outputs": [],
   "source": [
    "connection_parameters = {\n",
    "                          \"account\": SF_ACCOUNT,\n",
    "                          \"user\": SF_USERNAME,\n",
    "                          \"password\": SF_PASSWORD,\n",
    "                          \"role\": SF_ROLE, \n",
    "                          \"warehouse\": \"TLC_WH\", \n",
    "                          \"database\": \"NYC_TLC\", \n",
    "                          \"schema\": \"YELLOW_TAXI\"\n",
    "                        }\n",
    "\n",
    "sf_session = snowpark.Session.builder.configs(connection_parameters).create()"
   ]
  },
  {
   "cell_type": "markdown",
   "metadata": {},
   "source": [
    "# Query Tables"
   ]
  },
  {
   "cell_type": "markdown",
   "metadata": {},
   "source": [
    "Count Total Passengers By Mode of Payment"
   ]
  },
  {
   "cell_type": "code",
   "execution_count": 4,
   "metadata": {},
   "outputs": [
    {
     "data": {
      "text/plain": [
       "<snowflake.snowpark.dataframe.DataFrame at 0x1873d975b80>"
      ]
     },
     "execution_count": 4,
     "metadata": {},
     "output_type": "execute_result"
    }
   ],
   "source": [
    "sf_session.sql(\n",
    "                \"\"\"\n",
    "                CREATE OR REPLACE FUNCTION payment_count_by_passengers(payment_type TEXT)\n",
    "                  RETURNS TABLE (payment_type_name CHAR, total_passengers INTEGER)\n",
    "                AS\n",
    "                '\n",
    "                SELECT pt.payment_type_name, COUNT(pc.passenger_count) AS total_passengers\n",
    "                FROM NYC_TLC.YELLOW_TAXI.fact_table ft\n",
    "                LEFT JOIN NYC_TLC.YELLOW_TAXI.payment_type_dim pt USING(payment_type_id)\n",
    "                LEFT JOIN NYC_TLC.YELLOW_TAXI.passenger_count_dim pc ON ft.passenger_count_id = pc.passenger_count_id\n",
    "                WHERE payment_type_name = (payment_type)\n",
    "                GROUP BY 1\n",
    "                ORDER BY 2 DESC'\n",
    "\n",
    "                \"\"\"\n",
    "              )"
   ]
  },
  {
   "cell_type": "code",
   "execution_count": 5,
   "metadata": {},
   "outputs": [
    {
     "name": "stdout",
     "output_type": "stream",
     "text": [
      "--------------------------------------------\n",
      "|\"PAYMENT_TYPE_NAME\"  |\"TOTAL_PASSENGERS\"  |\n",
      "--------------------------------------------\n",
      "|Credit card          |2592256             |\n",
      "--------------------------------------------\n",
      "\n"
     ]
    }
   ],
   "source": [
    "sf_session.sql(\"\"\"SELECT * FROM TABLE (payment_count_by_passengers('Credit card'))\"\"\").show()"
   ]
  },
  {
   "cell_type": "code",
   "execution_count": 6,
   "metadata": {},
   "outputs": [
    {
     "name": "stdout",
     "output_type": "stream",
     "text": [
      "--------------------------------------------\n",
      "|\"PAYMENT_TYPE_NAME\"  |\"TOTAL_PASSENGERS\"  |\n",
      "--------------------------------------------\n",
      "|Cash                 |552611              |\n",
      "--------------------------------------------\n",
      "\n"
     ]
    }
   ],
   "source": [
    "sf_session.sql(\"\"\"SELECT * FROM TABLE (payment_count_by_passengers('Cash'))\"\"\").show()"
   ]
  },
  {
   "cell_type": "code",
   "execution_count": 7,
   "metadata": {},
   "outputs": [
    {
     "name": "stdout",
     "output_type": "stream",
     "text": [
      "--------------------------------------------\n",
      "|\"PAYMENT_TYPE_NAME\"  |\"TOTAL_PASSENGERS\"  |\n",
      "--------------------------------------------\n",
      "|Dispute              |41185               |\n",
      "--------------------------------------------\n",
      "\n"
     ]
    }
   ],
   "source": [
    "sf_session.sql(\"\"\"SELECT * FROM TABLE (payment_count_by_passengers('Dispute'))\"\"\").show()"
   ]
  },
  {
   "cell_type": "code",
   "execution_count": 8,
   "metadata": {},
   "outputs": [
    {
     "name": "stdout",
     "output_type": "stream",
     "text": [
      "--------------------------------------------\n",
      "|\"PAYMENT_TYPE_NAME\"  |\"TOTAL_PASSENGERS\"  |\n",
      "--------------------------------------------\n",
      "|No charge            |21294               |\n",
      "--------------------------------------------\n",
      "\n"
     ]
    }
   ],
   "source": [
    "sf_session.sql(\"\"\"SELECT * FROM TABLE (payment_count_by_passengers('No charge'))\"\"\").show()"
   ]
  },
  {
   "cell_type": "markdown",
   "metadata": {},
   "source": [
    "Explore the date and time when the meter was engaged"
   ]
  },
  {
   "cell_type": "code",
   "execution_count": 9,
   "metadata": {},
   "outputs": [
    {
     "name": "stdout",
     "output_type": "stream",
     "text": [
      "-----------------------------------\n",
      "|\"DAY_NAME\"  |\"TOTAL_PASSENGERS\"  |\n",
      "-----------------------------------\n",
      "|Wed         |287340              |\n",
      "|Tue         |281836              |\n",
      "|Fri         |298584              |\n",
      "|Thu         |368849              |\n",
      "|Sat         |306689              |\n",
      "|Sun         |274499              |\n",
      "|Mon         |262245              |\n",
      "-----------------------------------\n",
      "\n"
     ]
    }
   ],
   "source": [
    "sf_session.sql(\"\"\"\n",
    "               WITH \n",
    "                   daily_passenger_count as (\n",
    "                                              SELECT \n",
    "                                                    DISTINCT \n",
    "                                                            TO_CHAR(dt.tpep_pickup_datetime::datetime, 'Dy') AS day_name,\n",
    "                                                            pc.passenger_count,\n",
    "                                                            dt.tpep_pickup_datetime\n",
    "                                              FROM FACT_TABLE ft\n",
    "                                              LEFT JOIN PASSENGER_COUNT_DIM pc USING (passenger_count_id)\n",
    "                                              LEFT JOIN DATETIME_DIM dt ON ft.datetime_id = dt.datetime_id\n",
    "                                              WHERE dt.tpep_pickup_datetime BETWEEN '2023-06-01' AND '2023-06-30'\n",
    "                                            )\n",
    "               SELECT\n",
    "                     DISTINCT\n",
    "                             day_name,\n",
    "                             COUNT(passenger_count) AS total_passengers\n",
    "               FROM daily_passenger_count \n",
    "               GROUP BY 1\n",
    "               ORDER BY  total_passengers DESC   \n",
    "\n",
    "               \"\"\"\n",
    "              ).show()"
   ]
  },
  {
   "cell_type": "code",
   "execution_count": 10,
   "metadata": {},
   "outputs": [
    {
     "name": "stdout",
     "output_type": "stream",
     "text": [
      "--------------------------------------\n",
      "|\"PICKUP_HOUR\"  |\"TOTAL_PASSENGERS\"  |\n",
      "--------------------------------------\n",
      "|18             |130580              |\n",
      "|17             |125152              |\n",
      "|19             |122026              |\n",
      "|15             |120857              |\n",
      "|16             |120238              |\n",
      "|14             |119571              |\n",
      "|10             |97843               |\n",
      "|23             |96483               |\n",
      "|9              |89603               |\n",
      "|8              |79894               |\n",
      "--------------------------------------\n",
      "\n"
     ]
    }
   ],
   "source": [
    "sf_session.sql(\"\"\"\n",
    "               WITH \n",
    "                   hourly_passenger_count as (\n",
    "                                              SELECT \n",
    "                                                    DISTINCT \n",
    "                                                            EXTRACT(HOUR FROM dt.tpep_pickup_datetime) as pickup_hour,\n",
    "                                                            pc.passenger_count,\n",
    "                                                            dt.tpep_pickup_datetime\n",
    "                                              FROM FACT_TABLE ft\n",
    "                                              LEFT JOIN PASSENGER_COUNT_DIM pc USING (passenger_count_id)\n",
    "                                              LEFT JOIN DATETIME_DIM dt ON ft.datetime_id = dt.datetime_id\n",
    "                                              WHERE dt.tpep_pickup_datetime BETWEEN '2023-06-01' AND '2023-06-30'\n",
    "                                            )\n",
    "               SELECT \n",
    "                     DISTINCT \n",
    "                             pickup_hour,\n",
    "                             COUNT(passenger_count) AS total_passengers\n",
    "               FROM hourly_passenger_count\n",
    "               GROUP BY 1\n",
    "               ORDER BY 2 DESC \n",
    "\n",
    "               \"\"\"\n",
    "              ).show()"
   ]
  },
  {
   "cell_type": "markdown",
   "metadata": {},
   "source": [
    "Calculate Daily Trip Distance By Borough"
   ]
  },
  {
   "cell_type": "code",
   "execution_count": 11,
   "metadata": {},
   "outputs": [],
   "source": [
    "def calculate_trip_distance(borough: str, order: str = \"DESC\") -> snowpark.DataFrame:\n",
    "  \"\"\"\n",
    "  Calculates daily trip distance by Borough\n",
    "\n",
    "  Parameters\n",
    "  ----------\n",
    "  borough: str\n",
    "      administrative division to use\n",
    "\n",
    "  order: str, defaults to descending\n",
    "      condition for sorting results\n",
    "\n",
    "  Returns:\n",
    "      Snowflake dataframe\n",
    "\n",
    "  \"\"\"\n",
    "  connection_parameters = {\n",
    "                             \"account\": SF_ACCOUNT,\n",
    "                             \"user\": SF_USERNAME,\n",
    "                             \"password\": SF_PASSWORD,\n",
    "                             \"role\": SF_ROLE, \n",
    "                             \"warehouse\": \"TLC_WH\", \n",
    "                             \"database\": \"NYC_TLC\", \n",
    "                             \"schema\": \"YELLOW_TAXI\"\n",
    "                           }\n",
    "  \n",
    "  session = snowpark.Session.builder.configs(connection_parameters).create()\n",
    "\n",
    "  sql_query = f\"\"\"\n",
    "               SELECT \n",
    "                     DISTINCT \n",
    "                             pl.borough,\n",
    "                             EXTRACT(DAY from dt.tpep_pickup_datetime) as day,\n",
    "                             ROUND(SUM(td.trip_distance)) as total_trip_distance              \n",
    "               FROM fact_table ft\n",
    "               LEFT JOIN trip_distance_dim td USING (trip_distance_id)\n",
    "               LEFT JOIN pickup_location_dim pl ON ft.pickup_location_id = pl.pickup_location_id\n",
    "               LEFT JOIN datetime_dim dt ON ft.datetime_id = dt.datetime_id\n",
    "               WHERE pl.borough = '{borough}'\n",
    "               GROUP BY 1, 2\n",
    "               ORDER BY 3 {order}\n",
    "\n",
    "              \"\"\"\n",
    "  try:\n",
    "      session.sql(sql_query).show()\n",
    "  \n",
    "  except Exception as err:\n",
    "     print(f\"An error occurred: {err}\")\n",
    "\n",
    "  finally:\n",
    "     session.close()"
   ]
  },
  {
   "cell_type": "code",
   "execution_count": 12,
   "metadata": {},
   "outputs": [
    {
     "name": "stdout",
     "output_type": "stream",
     "text": [
      "---------------------------------------------\n",
      "|\"BOROUGH\"  |\"DAY\"  |\"TOTAL_TRIP_DISTANCE\"  |\n",
      "---------------------------------------------\n",
      "|Manhattan  |14     |335867.0               |\n",
      "|Manhattan  |15     |329431.0               |\n",
      "|Manhattan  |28     |315058.0               |\n",
      "|Manhattan  |16     |313180.0               |\n",
      "|Manhattan  |13     |313029.0               |\n",
      "|Manhattan  |5      |311031.0               |\n",
      "|Manhattan  |3      |308979.0               |\n",
      "|Manhattan  |9      |307886.0               |\n",
      "|Manhattan  |18     |248690.0               |\n",
      "|Manhattan  |12     |240750.0               |\n",
      "---------------------------------------------\n",
      "\n"
     ]
    }
   ],
   "source": [
    "calculate_trip_distance(borough=\"Manhattan\", order=\"DESC\")"
   ]
  },
  {
   "cell_type": "code",
   "execution_count": 13,
   "metadata": {},
   "outputs": [
    {
     "name": "stdout",
     "output_type": "stream",
     "text": [
      "---------------------------------------------\n",
      "|\"BOROUGH\"  |\"DAY\"  |\"TOTAL_TRIP_DISTANCE\"  |\n",
      "---------------------------------------------\n",
      "|Queens     |7      |158746.0               |\n",
      "|Queens     |22     |154868.0               |\n",
      "|Queens     |15     |153800.0               |\n",
      "|Queens     |9      |152421.0               |\n",
      "|Queens     |20     |151767.0               |\n",
      "|Queens     |27     |150225.0               |\n",
      "|Queens     |16     |148926.0               |\n",
      "|Queens     |14     |144536.0               |\n",
      "|Queens     |23     |143533.0               |\n",
      "|Queens     |26     |185308.0               |\n",
      "---------------------------------------------\n",
      "\n"
     ]
    }
   ],
   "source": [
    "calculate_trip_distance(borough=\"Queens\", order=\"DESC\")"
   ]
  },
  {
   "cell_type": "code",
   "execution_count": 14,
   "metadata": {},
   "outputs": [
    {
     "name": "stdout",
     "output_type": "stream",
     "text": [
      "---------------------------------------------\n",
      "|\"BOROUGH\"  |\"DAY\"  |\"TOTAL_TRIP_DISTANCE\"  |\n",
      "---------------------------------------------\n",
      "|Brooklyn   |4      |5821.0                 |\n",
      "|Brooklyn   |10     |5417.0                 |\n",
      "|Brooklyn   |24     |5157.0                 |\n",
      "|Brooklyn   |17     |5123.0                 |\n",
      "|Brooklyn   |3      |5073.0                 |\n",
      "|Brooklyn   |15     |4964.0                 |\n",
      "|Brooklyn   |16     |4788.0                 |\n",
      "|Brooklyn   |1      |3852.0                 |\n",
      "|Brooklyn   |13     |3836.0                 |\n",
      "|Brooklyn   |6      |3670.0                 |\n",
      "---------------------------------------------\n",
      "\n"
     ]
    }
   ],
   "source": [
    "calculate_trip_distance(borough=\"Brooklyn\", order=\"DESC\")"
   ]
  },
  {
   "cell_type": "markdown",
   "metadata": {},
   "source": [
    "# Close Current Session"
   ]
  },
  {
   "cell_type": "code",
   "execution_count": 15,
   "metadata": {},
   "outputs": [],
   "source": [
    "sf_session.close()"
   ]
  }
 ],
 "metadata": {
  "kernelspec": {
   "display_name": "base",
   "language": "python",
   "name": "python3"
  },
  "language_info": {
   "codemirror_mode": {
    "name": "ipython",
    "version": 3
   },
   "file_extension": ".py",
   "mimetype": "text/x-python",
   "name": "python",
   "nbconvert_exporter": "python",
   "pygments_lexer": "ipython3",
   "version": "3.8.17"
  },
  "orig_nbformat": 4
 },
 "nbformat": 4,
 "nbformat_minor": 2
}
