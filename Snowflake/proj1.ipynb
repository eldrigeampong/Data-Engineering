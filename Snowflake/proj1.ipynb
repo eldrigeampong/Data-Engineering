{
 "cells": [
  {
   "attachments": {},
   "cell_type": "markdown",
   "metadata": {},
   "source": [
    "# Import Modules"
   ]
  },
  {
   "cell_type": "code",
   "execution_count": 1,
   "metadata": {},
   "outputs": [
    {
     "name": "stderr",
     "output_type": "stream",
     "text": [
      "c:\\Users\\ASANTE\\miniconda3\\envs\\SNOWFLAKE\\lib\\site-packages\\snowflake\\connector\\options.py:108: UserWarning: You have an incompatible version of 'pyarrow' installed (12.0.1), please install a version that adheres to: 'pyarrow<10.1.0,>=10.0.1; extra == \"pandas\"'\n",
      "  warn_incompatible_dep(\n",
      "Failed to import ArrowResult. No Apache Arrow result set format can be used. ImportError: DLL load failed while importing arrow_iterator: The specified procedure could not be found.\n"
     ]
    }
   ],
   "source": [
    "import os\n",
    "import pandas as pd\n",
    "from credentials import *\n",
    "import snowflake.connector\n",
    "from Queries.TPCH_SF1_ORDERS import *"
   ]
  },
  {
   "attachments": {},
   "cell_type": "markdown",
   "metadata": {},
   "source": [
    "# Helper Functions"
   ]
  },
  {
   "cell_type": "code",
   "execution_count": 2,
   "metadata": {},
   "outputs": [],
   "source": [
    "def fetch_data(user: str, password: str, account: str, warehouse: str, database: str, schema: str, sql_query, col_names) -> pd.DataFrame:\n",
    "    \"\"\"\n",
    "    Fetches data from a Snowflake database and returns it as a Pandas DataFrame.\n",
    "\n",
    "    Parameters\n",
    "\n",
    "    user: str\n",
    "      name of snowflake user\n",
    "\n",
    "    password: str\n",
    "      password of snowflake user\n",
    "\n",
    "    account: str\n",
    "      id of account holder\n",
    "\n",
    "    warehouse: str  \n",
    "      name of snowflake warehouse\n",
    "          \n",
    "    database: str\n",
    "      database name\n",
    "\n",
    "    schema: str\n",
    "      schema name\n",
    "\n",
    "    sql_query: str\n",
    "        query to execute\n",
    "\n",
    "    col_names: list[str]\n",
    "        column names to use\n",
    "\n",
    "    Returns:\n",
    "        result as pandas dataframe\n",
    "    \n",
    "    \"\"\"\n",
    "    try:\n",
    "        conn = snowflake.connector.connect(user=user, password=password, account=account, warehouse=warehouse, database=database, schema=schema)\n",
    "        results = conn.cursor().execute(f\"{sql_query}\").fetchall()\n",
    "        print(\"Query executed successfully!\")\n",
    "\n",
    "        return pd.DataFrame(results, columns=col_names)\n",
    "    \n",
    "    except snowflake.connector.errors.Error as e:\n",
    "        return f\"Error executing query: {e}\""
   ]
  },
  {
   "attachments": {},
   "cell_type": "markdown",
   "metadata": {},
   "source": [
    "# Fetch Data"
   ]
  },
  {
   "cell_type": "code",
   "execution_count": 3,
   "metadata": {},
   "outputs": [
    {
     "name": "stdout",
     "output_type": "stream",
     "text": [
      "Query executed successfully!\n"
     ]
    }
   ],
   "source": [
    "column_names = ['orderkey', 'custkey', 'orderstatus', 'totalprice', 'orderdate', 'orderpriority']\n",
    "\n",
    "df = fetch_data(USERNAME, PASSWORD, ACCOUNT_ID, WAREHOUSE, DATABASE, SCHEMA, query1, column_names)"
   ]
  },
  {
   "attachments": {},
   "cell_type": "markdown",
   "metadata": {},
   "source": [
    "# View DataFrame"
   ]
  },
  {
   "cell_type": "code",
   "execution_count": 4,
   "metadata": {},
   "outputs": [
    {
     "data": {
      "text/html": [
       "<div>\n",
       "<style scoped>\n",
       "    .dataframe tbody tr th:only-of-type {\n",
       "        vertical-align: middle;\n",
       "    }\n",
       "\n",
       "    .dataframe tbody tr th {\n",
       "        vertical-align: top;\n",
       "    }\n",
       "\n",
       "    .dataframe thead th {\n",
       "        text-align: right;\n",
       "    }\n",
       "</style>\n",
       "<table border=\"1\" class=\"dataframe\">\n",
       "  <thead>\n",
       "    <tr style=\"text-align: right;\">\n",
       "      <th></th>\n",
       "      <th>orderkey</th>\n",
       "      <th>custkey</th>\n",
       "      <th>orderstatus</th>\n",
       "      <th>totalprice</th>\n",
       "      <th>orderdate</th>\n",
       "      <th>orderpriority</th>\n",
       "    </tr>\n",
       "  </thead>\n",
       "  <tbody>\n",
       "    <tr>\n",
       "      <th>0</th>\n",
       "      <td>600003</td>\n",
       "      <td>101318</td>\n",
       "      <td>F</td>\n",
       "      <td>188614.83</td>\n",
       "      <td>1992-11-27</td>\n",
       "      <td>4-NOT SPECIFIED</td>\n",
       "    </tr>\n",
       "    <tr>\n",
       "      <th>1</th>\n",
       "      <td>600069</td>\n",
       "      <td>47033</td>\n",
       "      <td>F</td>\n",
       "      <td>188365.87</td>\n",
       "      <td>1993-01-09</td>\n",
       "      <td>4-NOT SPECIFIED</td>\n",
       "    </tr>\n",
       "    <tr>\n",
       "      <th>2</th>\n",
       "      <td>600743</td>\n",
       "      <td>10183</td>\n",
       "      <td>F</td>\n",
       "      <td>172870.03</td>\n",
       "      <td>1994-01-22</td>\n",
       "      <td>2-HIGH</td>\n",
       "    </tr>\n",
       "    <tr>\n",
       "      <th>3</th>\n",
       "      <td>600099</td>\n",
       "      <td>64687</td>\n",
       "      <td>F</td>\n",
       "      <td>273339.09</td>\n",
       "      <td>1994-11-03</td>\n",
       "      <td>3-MEDIUM</td>\n",
       "    </tr>\n",
       "    <tr>\n",
       "      <th>4</th>\n",
       "      <td>600129</td>\n",
       "      <td>50956</td>\n",
       "      <td>O</td>\n",
       "      <td>139144.58</td>\n",
       "      <td>1997-01-08</td>\n",
       "      <td>2-HIGH</td>\n",
       "    </tr>\n",
       "    <tr>\n",
       "      <th>...</th>\n",
       "      <td>...</td>\n",
       "      <td>...</td>\n",
       "      <td>...</td>\n",
       "      <td>...</td>\n",
       "      <td>...</td>\n",
       "      <td>...</td>\n",
       "    </tr>\n",
       "    <tr>\n",
       "      <th>1499995</th>\n",
       "      <td>5399940</td>\n",
       "      <td>113116</td>\n",
       "      <td>O</td>\n",
       "      <td>153087.71</td>\n",
       "      <td>1996-12-23</td>\n",
       "      <td>4-NOT SPECIFIED</td>\n",
       "    </tr>\n",
       "    <tr>\n",
       "      <th>1499996</th>\n",
       "      <td>5399942</td>\n",
       "      <td>60880</td>\n",
       "      <td>O</td>\n",
       "      <td>108043.09</td>\n",
       "      <td>1995-05-08</td>\n",
       "      <td>4-NOT SPECIFIED</td>\n",
       "    </tr>\n",
       "    <tr>\n",
       "      <th>1499997</th>\n",
       "      <td>5399971</td>\n",
       "      <td>141763</td>\n",
       "      <td>F</td>\n",
       "      <td>73729.23</td>\n",
       "      <td>1992-07-13</td>\n",
       "      <td>4-NOT SPECIFIED</td>\n",
       "    </tr>\n",
       "    <tr>\n",
       "      <th>1499998</th>\n",
       "      <td>5399009</td>\n",
       "      <td>44168</td>\n",
       "      <td>F</td>\n",
       "      <td>47421.46</td>\n",
       "      <td>1994-09-02</td>\n",
       "      <td>2-HIGH</td>\n",
       "    </tr>\n",
       "    <tr>\n",
       "      <th>1499999</th>\n",
       "      <td>5399621</td>\n",
       "      <td>148795</td>\n",
       "      <td>F</td>\n",
       "      <td>196553.33</td>\n",
       "      <td>1992-08-31</td>\n",
       "      <td>5-LOW</td>\n",
       "    </tr>\n",
       "  </tbody>\n",
       "</table>\n",
       "<p>1500000 rows × 6 columns</p>\n",
       "</div>"
      ],
      "text/plain": [
       "         orderkey  custkey orderstatus totalprice   orderdate    orderpriority\n",
       "0          600003   101318           F  188614.83  1992-11-27  4-NOT SPECIFIED\n",
       "1          600069    47033           F  188365.87  1993-01-09  4-NOT SPECIFIED\n",
       "2          600743    10183           F  172870.03  1994-01-22           2-HIGH\n",
       "3          600099    64687           F  273339.09  1994-11-03         3-MEDIUM\n",
       "4          600129    50956           O  139144.58  1997-01-08           2-HIGH\n",
       "...           ...      ...         ...        ...         ...              ...\n",
       "1499995   5399940   113116           O  153087.71  1996-12-23  4-NOT SPECIFIED\n",
       "1499996   5399942    60880           O  108043.09  1995-05-08  4-NOT SPECIFIED\n",
       "1499997   5399971   141763           F   73729.23  1992-07-13  4-NOT SPECIFIED\n",
       "1499998   5399009    44168           F   47421.46  1994-09-02           2-HIGH\n",
       "1499999   5399621   148795           F  196553.33  1992-08-31            5-LOW\n",
       "\n",
       "[1500000 rows x 6 columns]"
      ]
     },
     "execution_count": 4,
     "metadata": {},
     "output_type": "execute_result"
    }
   ],
   "source": [
    "df"
   ]
  }
 ],
 "metadata": {
  "kernelspec": {
   "display_name": "SF",
   "language": "python",
   "name": "python3"
  },
  "language_info": {
   "codemirror_mode": {
    "name": "ipython",
    "version": 3
   },
   "file_extension": ".py",
   "mimetype": "text/x-python",
   "name": "python",
   "nbconvert_exporter": "python",
   "pygments_lexer": "ipython3",
   "version": "3.8.17"
  },
  "orig_nbformat": 4
 },
 "nbformat": 4,
 "nbformat_minor": 2
}
