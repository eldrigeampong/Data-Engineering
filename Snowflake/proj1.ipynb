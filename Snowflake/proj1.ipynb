{
 "cells": [
  {
   "attachments": {},
   "cell_type": "markdown",
   "metadata": {},
   "source": [
    "# Import Modules"
   ]
  },
  {
   "cell_type": "code",
   "execution_count": 1,
   "metadata": {},
   "outputs": [
    {
     "name": "stderr",
     "output_type": "stream",
     "text": [
      "c:\\Users\\ASANTE\\miniconda3\\envs\\SNOWFLAKE\\lib\\site-packages\\snowflake\\connector\\options.py:108: UserWarning: You have an incompatible version of 'pyarrow' installed (12.0.1), please install a version that adheres to: 'pyarrow<10.1.0,>=10.0.1; extra == \"pandas\"'\n",
      "  warn_incompatible_dep(\n",
      "Failed to import ArrowResult. No Apache Arrow result set format can be used. ImportError: DLL load failed while importing arrow_iterator: The specified procedure could not be found.\n"
     ]
    }
   ],
   "source": [
    "import os\n",
    "import pandas as pd\n",
    "from credentials import *\n",
    "import snowflake.connector\n",
    "from Queries.TPCH_SF1_ORDERS import *"
   ]
  },
  {
   "attachments": {},
   "cell_type": "markdown",
   "metadata": {},
   "source": [
    "# Helper Functions"
   ]
  },
  {
   "cell_type": "code",
   "execution_count": 2,
   "metadata": {},
   "outputs": [],
   "source": [
    "def query_cursor(wh_name: str, db_name: str, schema_name: str):\n",
    "    '''\n",
    "    Create a cursor for interacting with database\n",
    "\n",
    "    Parameters\n",
    "\n",
    "    wh_name: str\n",
    "      warehouse name\n",
    "    \n",
    "    db_name: str\n",
    "      database name\n",
    "\n",
    "    schema_name: str\n",
    "      schema name\n",
    "\n",
    "    Returns:\n",
    "    The cursor itself, or None if some error happened, or the response returned by Snowflake if the _no_results flag is on.\n",
    "    \n",
    "    '''\n",
    "    cnx = snowflake.connector.connect(user=USERNAME, password=PASSWORD, account=ACCOUNT_ID)\n",
    "\n",
    "    cur = cnx.cursor().execute(f'USE WAREHOUSE {wh_name}')\n",
    "    cur = cnx.cursor().execute(f'USE DATABASE {db_name}')\n",
    "    cur = cnx.cursor().execute(f'USE SCHEMA {schema_name}')\n",
    "\n",
    "    return cur\n",
    "\n",
    "\n",
    "def fetch_data(wh_name, db_name, schema_name, sql_query, col_names) -> pd.DataFrame:\n",
    "    '''\n",
    "    Retrieves data from a Snowflake database and returns it as a Pandas DataFrame.\n",
    "\n",
    "    Parameters\n",
    "\n",
    "    wh_name: str\n",
    "      warehouse name\n",
    "    \n",
    "    db_name: str\n",
    "      database name\n",
    "\n",
    "    schema_name: str\n",
    "      schema name\n",
    "\n",
    "    sql_query: str\n",
    "        query to execute\n",
    "\n",
    "    col_names: list[str]\n",
    "        column names to use\n",
    "\n",
    "    Returns:\n",
    "        result as pandas dataframe\n",
    "    \n",
    "    '''\n",
    "    cur = query_cursor(wh_name=wh_name, db_name=db_name, schema_name=schema_name)\n",
    "    print(f'Snowflake Query ID: {cur.sfqid}')\n",
    "    results = cur.execute(f'{sql_query}').fetchall()\n",
    "    \n",
    "    return pd.DataFrame(results, columns=col_names)"
   ]
  },
  {
   "attachments": {},
   "cell_type": "markdown",
   "metadata": {},
   "source": [
    "# Create Connection To Warehouse, Database and Schema"
   ]
  },
  {
   "cell_type": "code",
   "execution_count": 3,
   "metadata": {},
   "outputs": [],
   "source": [
    "cur = query_cursor(WAREHOUSE, DATABASE, SCHEMA)"
   ]
  },
  {
   "attachments": {},
   "cell_type": "markdown",
   "metadata": {},
   "source": [
    "# Query Data"
   ]
  },
  {
   "cell_type": "code",
   "execution_count": 4,
   "metadata": {},
   "outputs": [
    {
     "name": "stdout",
     "output_type": "stream",
     "text": [
      "Snowflake Query ID: 01adb182-3201-dce7-0002-0ed20001903a\n"
     ]
    }
   ],
   "source": [
    "column_names = ['orderkey', 'custkey', 'orderstatus', 'totalprice', 'orderdate', 'orderpriority']\n",
    "\n",
    "df = fetch_data(WAREHOUSE, DATABASE, SCHEMA, query1, column_names)"
   ]
  },
  {
   "cell_type": "code",
   "execution_count": 5,
   "metadata": {},
   "outputs": [
    {
     "data": {
      "text/html": [
       "<div>\n",
       "<style scoped>\n",
       "    .dataframe tbody tr th:only-of-type {\n",
       "        vertical-align: middle;\n",
       "    }\n",
       "\n",
       "    .dataframe tbody tr th {\n",
       "        vertical-align: top;\n",
       "    }\n",
       "\n",
       "    .dataframe thead th {\n",
       "        text-align: right;\n",
       "    }\n",
       "</style>\n",
       "<table border=\"1\" class=\"dataframe\">\n",
       "  <thead>\n",
       "    <tr style=\"text-align: right;\">\n",
       "      <th></th>\n",
       "      <th>orderkey</th>\n",
       "      <th>custkey</th>\n",
       "      <th>orderstatus</th>\n",
       "      <th>totalprice</th>\n",
       "      <th>orderdate</th>\n",
       "      <th>orderpriority</th>\n",
       "    </tr>\n",
       "  </thead>\n",
       "  <tbody>\n",
       "    <tr>\n",
       "      <th>0</th>\n",
       "      <td>2400161</td>\n",
       "      <td>25882</td>\n",
       "      <td>O</td>\n",
       "      <td>158337.78</td>\n",
       "      <td>1996-12-29</td>\n",
       "      <td>4-NOT SPECIFIED</td>\n",
       "    </tr>\n",
       "    <tr>\n",
       "      <th>1</th>\n",
       "      <td>2400672</td>\n",
       "      <td>99451</td>\n",
       "      <td>O</td>\n",
       "      <td>175200.51</td>\n",
       "      <td>1997-12-21</td>\n",
       "      <td>1-URGENT</td>\n",
       "    </tr>\n",
       "    <tr>\n",
       "      <th>2</th>\n",
       "      <td>2400071</td>\n",
       "      <td>25478</td>\n",
       "      <td>F</td>\n",
       "      <td>7623.08</td>\n",
       "      <td>1994-07-02</td>\n",
       "      <td>1-URGENT</td>\n",
       "    </tr>\n",
       "    <tr>\n",
       "      <th>3</th>\n",
       "      <td>2400101</td>\n",
       "      <td>19960</td>\n",
       "      <td>O</td>\n",
       "      <td>223678.02</td>\n",
       "      <td>1996-02-25</td>\n",
       "      <td>5-LOW</td>\n",
       "    </tr>\n",
       "    <tr>\n",
       "      <th>4</th>\n",
       "      <td>2400102</td>\n",
       "      <td>37369</td>\n",
       "      <td>O</td>\n",
       "      <td>233587.79</td>\n",
       "      <td>1996-12-09</td>\n",
       "      <td>1-URGENT</td>\n",
       "    </tr>\n",
       "    <tr>\n",
       "      <th>...</th>\n",
       "      <td>...</td>\n",
       "      <td>...</td>\n",
       "      <td>...</td>\n",
       "      <td>...</td>\n",
       "      <td>...</td>\n",
       "      <td>...</td>\n",
       "    </tr>\n",
       "    <tr>\n",
       "      <th>1499995</th>\n",
       "      <td>1799846</td>\n",
       "      <td>41851</td>\n",
       "      <td>O</td>\n",
       "      <td>145278.77</td>\n",
       "      <td>1997-08-01</td>\n",
       "      <td>3-MEDIUM</td>\n",
       "    </tr>\n",
       "    <tr>\n",
       "      <th>1499996</th>\n",
       "      <td>1799877</td>\n",
       "      <td>139166</td>\n",
       "      <td>F</td>\n",
       "      <td>161819.05</td>\n",
       "      <td>1993-01-09</td>\n",
       "      <td>2-HIGH</td>\n",
       "    </tr>\n",
       "    <tr>\n",
       "      <th>1499997</th>\n",
       "      <td>1799878</td>\n",
       "      <td>7045</td>\n",
       "      <td>O</td>\n",
       "      <td>189946.79</td>\n",
       "      <td>1996-06-23</td>\n",
       "      <td>5-LOW</td>\n",
       "    </tr>\n",
       "    <tr>\n",
       "      <th>1499998</th>\n",
       "      <td>1799938</td>\n",
       "      <td>147031</td>\n",
       "      <td>O</td>\n",
       "      <td>167871.22</td>\n",
       "      <td>1997-03-27</td>\n",
       "      <td>3-MEDIUM</td>\n",
       "    </tr>\n",
       "    <tr>\n",
       "      <th>1499999</th>\n",
       "      <td>1799941</td>\n",
       "      <td>62920</td>\n",
       "      <td>O</td>\n",
       "      <td>76424.97</td>\n",
       "      <td>1998-01-09</td>\n",
       "      <td>3-MEDIUM</td>\n",
       "    </tr>\n",
       "  </tbody>\n",
       "</table>\n",
       "<p>1500000 rows × 6 columns</p>\n",
       "</div>"
      ],
      "text/plain": [
       "         orderkey  custkey orderstatus totalprice   orderdate    orderpriority\n",
       "0         2400161    25882           O  158337.78  1996-12-29  4-NOT SPECIFIED\n",
       "1         2400672    99451           O  175200.51  1997-12-21         1-URGENT\n",
       "2         2400071    25478           F    7623.08  1994-07-02         1-URGENT\n",
       "3         2400101    19960           O  223678.02  1996-02-25            5-LOW\n",
       "4         2400102    37369           O  233587.79  1996-12-09         1-URGENT\n",
       "...           ...      ...         ...        ...         ...              ...\n",
       "1499995   1799846    41851           O  145278.77  1997-08-01         3-MEDIUM\n",
       "1499996   1799877   139166           F  161819.05  1993-01-09           2-HIGH\n",
       "1499997   1799878     7045           O  189946.79  1996-06-23            5-LOW\n",
       "1499998   1799938   147031           O  167871.22  1997-03-27         3-MEDIUM\n",
       "1499999   1799941    62920           O   76424.97  1998-01-09         3-MEDIUM\n",
       "\n",
       "[1500000 rows x 6 columns]"
      ]
     },
     "execution_count": 5,
     "metadata": {},
     "output_type": "execute_result"
    }
   ],
   "source": [
    "df"
   ]
  }
 ],
 "metadata": {
  "kernelspec": {
   "display_name": "SF",
   "language": "python",
   "name": "python3"
  },
  "language_info": {
   "codemirror_mode": {
    "name": "ipython",
    "version": 3
   },
   "file_extension": ".py",
   "mimetype": "text/x-python",
   "name": "python",
   "nbconvert_exporter": "python",
   "pygments_lexer": "ipython3",
   "version": "3.8.16"
  },
  "orig_nbformat": 4
 },
 "nbformat": 4,
 "nbformat_minor": 2
}
