{
 "cells": [
  {
   "attachments": {},
   "cell_type": "markdown",
   "metadata": {},
   "source": [
    "# Import Modules"
   ]
  },
  {
   "cell_type": "code",
   "execution_count": 1,
   "metadata": {},
   "outputs": [
    {
     "name": "stderr",
     "output_type": "stream",
     "text": [
      "c:\\Users\\ASANTE\\miniconda3\\envs\\SNOWFLAKE\\lib\\site-packages\\snowflake\\connector\\options.py:108: UserWarning: You have an incompatible version of 'pyarrow' installed (12.0.1), please install a version that adheres to: 'pyarrow<10.1.0,>=10.0.1; extra == \"pandas\"'\n",
      "  warn_incompatible_dep(\n",
      "Failed to import ArrowResult. No Apache Arrow result set format can be used. ImportError: DLL load failed while importing arrow_iterator: The specified procedure could not be found.\n"
     ]
    }
   ],
   "source": [
    "import os\n",
    "import pandas as pd\n",
    "from credentials import *\n",
    "import snowflake.connector\n",
    "from Queries.TPCH_SF1_ORDERS import *"
   ]
  },
  {
   "attachments": {},
   "cell_type": "markdown",
   "metadata": {},
   "source": [
    "# Helper Functions"
   ]
  },
  {
   "cell_type": "code",
   "execution_count": 2,
   "metadata": {},
   "outputs": [],
   "source": [
    "def fetch_data(user: str, password: str, account: str, warehouse: str, database: str, schema: str, sql_query, col_names) -> pd.DataFrame:\n",
    "    \"\"\"\n",
    "    Fetches data from a Snowflake database and returns it as a Pandas DataFrame.\n",
    "\n",
    "    Parameters\n",
    "\n",
    "    user: str\n",
    "      name of snowflake user\n",
    "\n",
    "    password: str\n",
    "      password of snowflake user\n",
    "\n",
    "    account: str\n",
    "      id of account holder\n",
    "\n",
    "    warehouse: str  \n",
    "      name of snowflake warehouse\n",
    "          \n",
    "    database: str\n",
    "      database name\n",
    "\n",
    "    schema: str\n",
    "      schema name\n",
    "\n",
    "    sql_query: str\n",
    "        query to execute\n",
    "\n",
    "    col_names: list[str]\n",
    "        column names to use\n",
    "\n",
    "    Returns:\n",
    "        result as pandas dataframe\n",
    "    \n",
    "    \"\"\"\n",
    "    try:\n",
    "        conn = snowflake.connector.connect(user=user, password=password, account=account, warehouse=warehouse, database=database, schema=schema)\n",
    "        results = conn.cursor().execute(f\"{sql_query}\").fetchall()\n",
    "        print(\"Query executed successfully!\")\n",
    "\n",
    "        return pd.DataFrame(results, columns=col_names)\n",
    "    \n",
    "    except snowflake.connector.errors.Error as e:\n",
    "        return f\"Error executing query: {e}\""
   ]
  },
  {
   "attachments": {},
   "cell_type": "markdown",
   "metadata": {},
   "source": [
    "# Fetch Data"
   ]
  },
  {
   "cell_type": "code",
   "execution_count": 3,
   "metadata": {},
   "outputs": [
    {
     "name": "stdout",
     "output_type": "stream",
     "text": [
      "Query executed successfully!\n"
     ]
    }
   ],
   "source": [
    "column_names = ['orderkey', 'custkey', 'orderstatus', 'totalprice', 'orderdate', 'orderpriority']\n",
    "\n",
    "df = fetch_data(USERNAME, PASSWORD, ACCOUNT_ID, WAREHOUSE, DATABASE, SCHEMA, query1, column_names)"
   ]
  },
  {
   "attachments": {},
   "cell_type": "markdown",
   "metadata": {},
   "source": [
    "# View DataFrame"
   ]
  },
  {
   "cell_type": "code",
   "execution_count": 4,
   "metadata": {},
   "outputs": [
    {
     "data": {
      "text/html": [
       "<div>\n",
       "<style scoped>\n",
       "    .dataframe tbody tr th:only-of-type {\n",
       "        vertical-align: middle;\n",
       "    }\n",
       "\n",
       "    .dataframe tbody tr th {\n",
       "        vertical-align: top;\n",
       "    }\n",
       "\n",
       "    .dataframe thead th {\n",
       "        text-align: right;\n",
       "    }\n",
       "</style>\n",
       "<table border=\"1\" class=\"dataframe\">\n",
       "  <thead>\n",
       "    <tr style=\"text-align: right;\">\n",
       "      <th></th>\n",
       "      <th>orderkey</th>\n",
       "      <th>custkey</th>\n",
       "      <th>orderstatus</th>\n",
       "      <th>totalprice</th>\n",
       "      <th>orderdate</th>\n",
       "      <th>orderpriority</th>\n",
       "    </tr>\n",
       "  </thead>\n",
       "  <tbody>\n",
       "    <tr>\n",
       "      <th>0</th>\n",
       "      <td>4200003</td>\n",
       "      <td>141613</td>\n",
       "      <td>O</td>\n",
       "      <td>150849.49</td>\n",
       "      <td>1997-11-24</td>\n",
       "      <td>4-NOT SPECIFIED</td>\n",
       "    </tr>\n",
       "    <tr>\n",
       "      <th>1</th>\n",
       "      <td>4200006</td>\n",
       "      <td>49576</td>\n",
       "      <td>F</td>\n",
       "      <td>263616.19</td>\n",
       "      <td>1993-12-31</td>\n",
       "      <td>5-LOW</td>\n",
       "    </tr>\n",
       "    <tr>\n",
       "      <th>2</th>\n",
       "      <td>4200066</td>\n",
       "      <td>7693</td>\n",
       "      <td>O</td>\n",
       "      <td>57843.63</td>\n",
       "      <td>1995-06-02</td>\n",
       "      <td>4-NOT SPECIFIED</td>\n",
       "    </tr>\n",
       "    <tr>\n",
       "      <th>3</th>\n",
       "      <td>4200068</td>\n",
       "      <td>55922</td>\n",
       "      <td>F</td>\n",
       "      <td>90606.11</td>\n",
       "      <td>1994-10-29</td>\n",
       "      <td>3-MEDIUM</td>\n",
       "    </tr>\n",
       "    <tr>\n",
       "      <th>4</th>\n",
       "      <td>4200736</td>\n",
       "      <td>114686</td>\n",
       "      <td>F</td>\n",
       "      <td>11841.58</td>\n",
       "      <td>1994-01-11</td>\n",
       "      <td>2-HIGH</td>\n",
       "    </tr>\n",
       "    <tr>\n",
       "      <th>...</th>\n",
       "      <td>...</td>\n",
       "      <td>...</td>\n",
       "      <td>...</td>\n",
       "      <td>...</td>\n",
       "      <td>...</td>\n",
       "      <td>...</td>\n",
       "    </tr>\n",
       "    <tr>\n",
       "      <th>1499995</th>\n",
       "      <td>5999814</td>\n",
       "      <td>74857</td>\n",
       "      <td>O</td>\n",
       "      <td>58841.12</td>\n",
       "      <td>1997-01-04</td>\n",
       "      <td>2-HIGH</td>\n",
       "    </tr>\n",
       "    <tr>\n",
       "      <th>1499996</th>\n",
       "      <td>5999840</td>\n",
       "      <td>134002</td>\n",
       "      <td>F</td>\n",
       "      <td>19583.88</td>\n",
       "      <td>1993-10-20</td>\n",
       "      <td>2-HIGH</td>\n",
       "    </tr>\n",
       "    <tr>\n",
       "      <th>1499997</th>\n",
       "      <td>5999905</td>\n",
       "      <td>40673</td>\n",
       "      <td>F</td>\n",
       "      <td>77338.44</td>\n",
       "      <td>1994-01-09</td>\n",
       "      <td>2-HIGH</td>\n",
       "    </tr>\n",
       "    <tr>\n",
       "      <th>1499998</th>\n",
       "      <td>5999968</td>\n",
       "      <td>12896</td>\n",
       "      <td>F</td>\n",
       "      <td>354575.46</td>\n",
       "      <td>1992-12-24</td>\n",
       "      <td>3-MEDIUM</td>\n",
       "    </tr>\n",
       "    <tr>\n",
       "      <th>1499999</th>\n",
       "      <td>5997382</td>\n",
       "      <td>61381</td>\n",
       "      <td>O</td>\n",
       "      <td>102683.56</td>\n",
       "      <td>1995-06-13</td>\n",
       "      <td>2-HIGH</td>\n",
       "    </tr>\n",
       "  </tbody>\n",
       "</table>\n",
       "<p>1500000 rows × 6 columns</p>\n",
       "</div>"
      ],
      "text/plain": [
       "         orderkey  custkey orderstatus totalprice   orderdate    orderpriority\n",
       "0         4200003   141613           O  150849.49  1997-11-24  4-NOT SPECIFIED\n",
       "1         4200006    49576           F  263616.19  1993-12-31            5-LOW\n",
       "2         4200066     7693           O   57843.63  1995-06-02  4-NOT SPECIFIED\n",
       "3         4200068    55922           F   90606.11  1994-10-29         3-MEDIUM\n",
       "4         4200736   114686           F   11841.58  1994-01-11           2-HIGH\n",
       "...           ...      ...         ...        ...         ...              ...\n",
       "1499995   5999814    74857           O   58841.12  1997-01-04           2-HIGH\n",
       "1499996   5999840   134002           F   19583.88  1993-10-20           2-HIGH\n",
       "1499997   5999905    40673           F   77338.44  1994-01-09           2-HIGH\n",
       "1499998   5999968    12896           F  354575.46  1992-12-24         3-MEDIUM\n",
       "1499999   5997382    61381           O  102683.56  1995-06-13           2-HIGH\n",
       "\n",
       "[1500000 rows x 6 columns]"
      ]
     },
     "execution_count": 4,
     "metadata": {},
     "output_type": "execute_result"
    }
   ],
   "source": [
    "df"
   ]
  }
 ],
 "metadata": {
  "kernelspec": {
   "display_name": "SF",
   "language": "python",
   "name": "python3"
  },
  "language_info": {
   "codemirror_mode": {
    "name": "ipython",
    "version": 3
   },
   "file_extension": ".py",
   "mimetype": "text/x-python",
   "name": "python",
   "nbconvert_exporter": "python",
   "pygments_lexer": "ipython3",
   "version": "3.8.17"
  },
  "orig_nbformat": 4
 },
 "nbformat": 4,
 "nbformat_minor": 2
}
