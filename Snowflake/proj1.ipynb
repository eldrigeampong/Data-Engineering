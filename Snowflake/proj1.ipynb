{
 "cells": [
  {
   "attachments": {},
   "cell_type": "markdown",
   "metadata": {},
   "source": [
    "# Import Modules"
   ]
  },
  {
   "cell_type": "code",
   "execution_count": 1,
   "metadata": {},
   "outputs": [
    {
     "name": "stderr",
     "output_type": "stream",
     "text": [
      "c:\\Users\\ASANTE\\miniconda3\\envs\\SNOWFLAKE\\lib\\site-packages\\snowflake\\connector\\options.py:108: UserWarning: You have an incompatible version of 'pyarrow' installed (12.0.1), please install a version that adheres to: 'pyarrow<10.1.0,>=10.0.1; extra == \"pandas\"'\n",
      "  warn_incompatible_dep(\n",
      "Failed to import ArrowResult. No Apache Arrow result set format can be used. ImportError: DLL load failed while importing arrow_iterator: The specified procedure could not be found.\n"
     ]
    }
   ],
   "source": [
    "import os\n",
    "import pandas as pd\n",
    "from credentials import *\n",
    "import snowflake.connector\n",
    "from Queries.TPCH_SF1_ORDERS import *"
   ]
  },
  {
   "attachments": {},
   "cell_type": "markdown",
   "metadata": {},
   "source": [
    "# Helper Functions"
   ]
  },
  {
   "cell_type": "code",
   "execution_count": 2,
   "metadata": {},
   "outputs": [],
   "source": [
    "def query_cursor(wh_name: str, db_name: str, schema_name: str):\n",
    "    '''\n",
    "    Create a cursor for interacting with database\n",
    "\n",
    "    Parameters\n",
    "\n",
    "    wh_name: str\n",
    "      warehouse name\n",
    "    \n",
    "    db_name: str\n",
    "      database name\n",
    "\n",
    "    schema_name: str\n",
    "      schema name\n",
    "\n",
    "    Returns:\n",
    "    The cursor itself, or None if some error happened, or the response returned by Snowflake if the _no_results flag is on.\n",
    "    \n",
    "    '''\n",
    "    cnx = snowflake.connector.connect(user=USERNAME, password=PASSWORD, account=ACCOUNT_ID)\n",
    "\n",
    "    cur = cnx.cursor().execute(f'USE WAREHOUSE {wh_name}')\n",
    "    cur = cnx.cursor().execute(f'USE DATABASE {db_name}')\n",
    "    cur = cnx.cursor().execute(f'USE SCHEMA {schema_name}')\n",
    "\n",
    "    return cur\n",
    "\n",
    "\n",
    "def fetch_data(wh_name, db_name, schema_name, sql_query, col_names) -> pd.DataFrame:\n",
    "    '''\n",
    "    Retrieves data from a Snowflake database and returns it as a Pandas DataFrame.\n",
    "\n",
    "    Parameters\n",
    "\n",
    "    wh_name: str\n",
    "      warehouse name\n",
    "    \n",
    "    db_name: str\n",
    "      database name\n",
    "\n",
    "    schema_name: str\n",
    "      schema name\n",
    "\n",
    "    sql_query: str\n",
    "        query to execute\n",
    "\n",
    "    col_names: list[str]\n",
    "        column names to use\n",
    "\n",
    "    Returns:\n",
    "        result as pandas dataframe\n",
    "    \n",
    "    '''\n",
    "    cur = query_cursor(wh_name=wh_name, db_name=db_name, schema_name=schema_name)\n",
    "    print(f'Snowflake Query ID: {cur.sfqid}')\n",
    "    results = cur.execute(f'{sql_query}').fetchall()\n",
    "    \n",
    "    return pd.DataFrame(results, columns=col_names)"
   ]
  },
  {
   "attachments": {},
   "cell_type": "markdown",
   "metadata": {},
   "source": [
    "# Create Connection To Warehouse, Database and Schema"
   ]
  },
  {
   "cell_type": "code",
   "execution_count": 3,
   "metadata": {},
   "outputs": [],
   "source": [
    "cur = query_cursor(WAREHOUSE, DATABASE, SCHEMA)"
   ]
  },
  {
   "attachments": {},
   "cell_type": "markdown",
   "metadata": {},
   "source": [
    "# Query Data"
   ]
  },
  {
   "cell_type": "code",
   "execution_count": 4,
   "metadata": {},
   "outputs": [
    {
     "name": "stdout",
     "output_type": "stream",
     "text": [
      "Snowflake Query ID: 01adab8d-3201-dca3-0002-0ed200012ff2\n"
     ]
    }
   ],
   "source": [
    "column_names = ['orderkey', 'custkey', 'orderstatus', 'totalprice', 'orderdate', 'orderpriority']\n",
    "\n",
    "df = fetch_data(WAREHOUSE, DATABASE, SCHEMA, query1, column_names)"
   ]
  },
  {
   "cell_type": "code",
   "execution_count": 5,
   "metadata": {},
   "outputs": [
    {
     "data": {
      "text/html": [
       "<div>\n",
       "<style scoped>\n",
       "    .dataframe tbody tr th:only-of-type {\n",
       "        vertical-align: middle;\n",
       "    }\n",
       "\n",
       "    .dataframe tbody tr th {\n",
       "        vertical-align: top;\n",
       "    }\n",
       "\n",
       "    .dataframe thead th {\n",
       "        text-align: right;\n",
       "    }\n",
       "</style>\n",
       "<table border=\"1\" class=\"dataframe\">\n",
       "  <thead>\n",
       "    <tr style=\"text-align: right;\">\n",
       "      <th></th>\n",
       "      <th>orderkey</th>\n",
       "      <th>custkey</th>\n",
       "      <th>orderstatus</th>\n",
       "      <th>totalprice</th>\n",
       "      <th>orderdate</th>\n",
       "      <th>orderpriority</th>\n",
       "    </tr>\n",
       "  </thead>\n",
       "  <tbody>\n",
       "    <tr>\n",
       "      <th>0</th>\n",
       "      <td>66</td>\n",
       "      <td>129200</td>\n",
       "      <td>F</td>\n",
       "      <td>103740.67</td>\n",
       "      <td>1994-01-20</td>\n",
       "      <td>5-LOW</td>\n",
       "    </tr>\n",
       "    <tr>\n",
       "      <th>1</th>\n",
       "      <td>70</td>\n",
       "      <td>64340</td>\n",
       "      <td>F</td>\n",
       "      <td>113534.42</td>\n",
       "      <td>1993-12-18</td>\n",
       "      <td>5-LOW</td>\n",
       "    </tr>\n",
       "    <tr>\n",
       "      <th>2</th>\n",
       "      <td>96</td>\n",
       "      <td>107779</td>\n",
       "      <td>F</td>\n",
       "      <td>68989.90</td>\n",
       "      <td>1994-04-17</td>\n",
       "      <td>2-HIGH</td>\n",
       "    </tr>\n",
       "    <tr>\n",
       "      <th>3</th>\n",
       "      <td>167</td>\n",
       "      <td>119402</td>\n",
       "      <td>F</td>\n",
       "      <td>71124.35</td>\n",
       "      <td>1993-01-04</td>\n",
       "      <td>4-NOT SPECIFIED</td>\n",
       "    </tr>\n",
       "    <tr>\n",
       "      <th>4</th>\n",
       "      <td>423</td>\n",
       "      <td>103396</td>\n",
       "      <td>O</td>\n",
       "      <td>50240.88</td>\n",
       "      <td>1996-06-01</td>\n",
       "      <td>1-URGENT</td>\n",
       "    </tr>\n",
       "    <tr>\n",
       "      <th>...</th>\n",
       "      <td>...</td>\n",
       "      <td>...</td>\n",
       "      <td>...</td>\n",
       "      <td>...</td>\n",
       "      <td>...</td>\n",
       "      <td>...</td>\n",
       "    </tr>\n",
       "    <tr>\n",
       "      <th>1499995</th>\n",
       "      <td>2999908</td>\n",
       "      <td>23014</td>\n",
       "      <td>F</td>\n",
       "      <td>168982.73</td>\n",
       "      <td>1994-04-30</td>\n",
       "      <td>5-LOW</td>\n",
       "    </tr>\n",
       "    <tr>\n",
       "      <th>1499996</th>\n",
       "      <td>2999939</td>\n",
       "      <td>99310</td>\n",
       "      <td>O</td>\n",
       "      <td>260146.08</td>\n",
       "      <td>1998-05-16</td>\n",
       "      <td>5-LOW</td>\n",
       "    </tr>\n",
       "    <tr>\n",
       "      <th>1499997</th>\n",
       "      <td>2999975</td>\n",
       "      <td>112270</td>\n",
       "      <td>O</td>\n",
       "      <td>46122.59</td>\n",
       "      <td>1995-06-07</td>\n",
       "      <td>5-LOW</td>\n",
       "    </tr>\n",
       "    <tr>\n",
       "      <th>1499998</th>\n",
       "      <td>2998694</td>\n",
       "      <td>34436</td>\n",
       "      <td>O</td>\n",
       "      <td>83606.81</td>\n",
       "      <td>1995-11-12</td>\n",
       "      <td>5-LOW</td>\n",
       "    </tr>\n",
       "    <tr>\n",
       "      <th>1499999</th>\n",
       "      <td>2999589</td>\n",
       "      <td>63751</td>\n",
       "      <td>O</td>\n",
       "      <td>18842.23</td>\n",
       "      <td>1995-10-23</td>\n",
       "      <td>3-MEDIUM</td>\n",
       "    </tr>\n",
       "  </tbody>\n",
       "</table>\n",
       "<p>1500000 rows × 6 columns</p>\n",
       "</div>"
      ],
      "text/plain": [
       "         orderkey  custkey orderstatus totalprice   orderdate    orderpriority\n",
       "0              66   129200           F  103740.67  1994-01-20            5-LOW\n",
       "1              70    64340           F  113534.42  1993-12-18            5-LOW\n",
       "2              96   107779           F   68989.90  1994-04-17           2-HIGH\n",
       "3             167   119402           F   71124.35  1993-01-04  4-NOT SPECIFIED\n",
       "4             423   103396           O   50240.88  1996-06-01         1-URGENT\n",
       "...           ...      ...         ...        ...         ...              ...\n",
       "1499995   2999908    23014           F  168982.73  1994-04-30            5-LOW\n",
       "1499996   2999939    99310           O  260146.08  1998-05-16            5-LOW\n",
       "1499997   2999975   112270           O   46122.59  1995-06-07            5-LOW\n",
       "1499998   2998694    34436           O   83606.81  1995-11-12            5-LOW\n",
       "1499999   2999589    63751           O   18842.23  1995-10-23         3-MEDIUM\n",
       "\n",
       "[1500000 rows x 6 columns]"
      ]
     },
     "execution_count": 5,
     "metadata": {},
     "output_type": "execute_result"
    }
   ],
   "source": [
    "df"
   ]
  }
 ],
 "metadata": {
  "kernelspec": {
   "display_name": "SF",
   "language": "python",
   "name": "python3"
  },
  "language_info": {
   "codemirror_mode": {
    "name": "ipython",
    "version": 3
   },
   "file_extension": ".py",
   "mimetype": "text/x-python",
   "name": "python",
   "nbconvert_exporter": "python",
   "pygments_lexer": "ipython3",
   "version": "3.8.16"
  },
  "orig_nbformat": 4
 },
 "nbformat": 4,
 "nbformat_minor": 2
}
